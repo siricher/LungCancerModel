{
  "nbformat": 4,
  "nbformat_minor": 0,
  "metadata": {
    "colab": {
      "provenance": []
    },
    "kernelspec": {
      "name": "python3",
      "display_name": "Python 3"
    },
    "language_info": {
      "name": "python"
    },
    "accelerator": "GPU",
    "gpuClass": "standard"
  },
  "cells": [
    {
      "cell_type": "code",
      "execution_count": null,
      "metadata": {
        "id": "iYp2UuZa4zvf"
      },
      "outputs": [],
      "source": [
        "import numpy as np # linear algebra\n",
        "import pandas as pd # data processing, CSV file I/O (e.g. pd.read_csv)\n",
        "\n",
        "import os"
      ]
    },
    {
      "cell_type": "code",
      "source": [
        "cd .."
      ],
      "metadata": {
        "id": "QohA2_VIHNpB",
        "colab": {
          "base_uri": "https://localhost:8080/"
        },
        "outputId": "b55925ae-4c93-4bb0-bf83-58579f787020"
      },
      "execution_count": null,
      "outputs": [
        {
          "output_type": "stream",
          "name": "stdout",
          "text": [
            "/\n"
          ]
        }
      ]
    },
    {
      "cell_type": "code",
      "source": [
        "from google.colab import drive\n",
        "drive.mount('/content/drive')"
      ],
      "metadata": {
        "id": "VD1y9X78HpPz",
        "colab": {
          "base_uri": "https://localhost:8080/"
        },
        "outputId": "84fd8fc8-7b35-4945-d7bb-7741abd18dcd"
      },
      "execution_count": null,
      "outputs": [
        {
          "output_type": "stream",
          "name": "stdout",
          "text": [
            "Mounted at /content/drive\n"
          ]
        }
      ]
    },
    {
      "cell_type": "code",
      "source": [
        "import cv2\n",
        "import matplotlib.pyplot as plt\n",
        "import glob\n",
        "import tensorflow as tf\n",
        "from tensorflow.keras import datasets, layers, models, metrics, optimizers, regularizers\n",
        "import matplotlib.pyplot as plt"
      ],
      "metadata": {
        "id": "uJ2d48bPCsJx"
      },
      "execution_count": null,
      "outputs": []
    },
    {
      "cell_type": "code",
      "source": [
        "test_images  = []\n",
        "test_labels  = []"
      ],
      "metadata": {
        "id": "k_hBD5oKDM-X"
      },
      "execution_count": null,
      "outputs": []
    },
    {
      "cell_type": "code",
      "source": [
        "#TEST DATASET\n",
        "#CATEGORY: ADENOCARCINOMA - 0\n",
        "file = 'content/drive/MyDrive/Lumiere Project/Data/test/adenocarcinoma' \n",
        "\n",
        "for x in glob.iglob(f'{file}/*.png'):\n",
        "  #plt.imshow(x, cmap='gray')\n",
        "  #print(x)\n",
        "  test_image = cv2.imread(x, cv2.IMREAD_GRAYSCALE )\n",
        "\n",
        "  # Formato de imagen\n",
        "  img_resized = cv2.resize(test_image, (320,320), )\n",
        "  img_resized = cv2.bitwise_not(img_resized)\n",
        "\n",
        "  # Guardar imagenes y etiquetas\n",
        "  test_images.append(img_resized)\n",
        "  test_labels.append(0)"
      ],
      "metadata": {
        "id": "rrIVCu1KDUq2"
      },
      "execution_count": null,
      "outputs": []
    },
    {
      "cell_type": "code",
      "source": [
        "file = 'content/drive/MyDrive/Lumiere Project/Data/test/large.cell.carcinoma' \n",
        "\n",
        "for x in glob.iglob(f'{file}/*.png'):\n",
        "  test_image = cv2.imread(x, cv2.IMREAD_GRAYSCALE )\n",
        "\n",
        "  # Formato de imagen\n",
        "  img_resized = cv2.resize(test_image, (320,320), )\n",
        "  img_resized = cv2.bitwise_not(img_resized)\n",
        "\n",
        "  # Guardar imagenes y etiquetas\n",
        "  test_images.append(img_resized)\n",
        "  test_labels.append(1)"
      ],
      "metadata": {
        "id": "Kz5UMB3vDWmN"
      },
      "execution_count": null,
      "outputs": []
    },
    {
      "cell_type": "code",
      "source": [
        "#CATEGORY: NORMAL - 2\n",
        "file = 'content/drive/MyDrive/Lumiere Project/Data/test/normal' \n",
        "\n",
        "for x in glob.iglob(f'{file}/*.png'):\n",
        "  test_image = cv2.imread(x, cv2.IMREAD_GRAYSCALE )\n",
        "\n",
        "  # Formato de imagen\n",
        "  img_resized = cv2.resize(test_image, (320,320), )\n",
        "  img_resized = cv2.bitwise_not(img_resized)\n",
        "\n",
        "  # Guardar imagenes y etiquetas\n",
        "  test_images.append(img_resized)\n",
        "  test_labels.append(2)"
      ],
      "metadata": {
        "id": "X4jf9dn8Dc4J"
      },
      "execution_count": null,
      "outputs": []
    },
    {
      "cell_type": "code",
      "source": [
        "#CATEGORY: SQUAMOUS - 3\n",
        "file = 'content/drive/MyDrive/Lumiere Project/Data/test/squamous.cell.carcinoma' \n",
        "\n",
        "for x in glob.iglob(f'{file}/*.png'):\n",
        "  test_image = cv2.imread(x, cv2.IMREAD_GRAYSCALE )\n",
        "\n",
        "  # Formato de imagen\n",
        "  img_resized = cv2.resize(test_image, (320,320), )\n",
        "  img_resized = cv2.bitwise_not(img_resized)\n",
        "\n",
        "  # Guardar imagenes y etiquetas\n",
        "  test_images.append(img_resized)\n",
        "  test_labels.append(3)"
      ],
      "metadata": {
        "id": "Is8-cp7LDnLO"
      },
      "execution_count": null,
      "outputs": []
    },
    {
      "cell_type": "code",
      "source": [
        "train_images = []\n",
        "train_labels = []"
      ],
      "metadata": {
        "id": "TDbLnkCMOM9z"
      },
      "execution_count": null,
      "outputs": []
    },
    {
      "cell_type": "code",
      "source": [
        "#TRAIN DATASET\n",
        "#CATEGORY: ADENOCARCINOMA - 0\n",
        "file = 'content/drive/MyDrive/Lumiere Project/Data/train/adenocarcinoma_left.lower.lobe_T2_N0_M0_Ib' \n",
        "\n",
        "for x in glob.iglob(f'{file}/*.png'):\n",
        "  #plt.imshow(x, cmap='gray')\n",
        "  #print(x)\n",
        "  test_image = cv2.imread(x, cv2.IMREAD_GRAYSCALE )\n",
        "\n",
        "  # Formato de imagen\n",
        "  img_resized = cv2.resize(test_image, (320,320), )\n",
        "  img_resized = cv2.bitwise_not(img_resized)\n",
        "\n",
        "  # Guardar imagenes y etiquetas\n",
        "  train_images.append(img_resized)\n",
        "  train_labels.append(0)"
      ],
      "metadata": {
        "id": "-36icbyeOUOJ"
      },
      "execution_count": null,
      "outputs": []
    },
    {
      "cell_type": "code",
      "source": [
        "#CATEGORY: LARGE CELL CARCINOMA - 1\n",
        "file = 'content/drive/MyDrive/Lumiere Project/Data/train/large.cell.carcinoma_left.hilum_T2_N2_M0_IIIa' \n",
        "\n",
        "for x in glob.iglob(f'{file}/*.png'):\n",
        "  test_image = cv2.imread(x, cv2.IMREAD_GRAYSCALE )\n",
        "\n",
        "  # Formato de imagen\n",
        "  img_resized = cv2.resize(test_image, (320,320), )\n",
        "  img_resized = cv2.bitwise_not(img_resized)\n",
        "\n",
        "  # Guardar imagenes y etiquetas\n",
        "  train_images.append(img_resized)\n",
        "  train_labels.append(1)"
      ],
      "metadata": {
        "id": "2lf08aHMOjf6"
      },
      "execution_count": null,
      "outputs": []
    },
    {
      "cell_type": "code",
      "source": [
        "#CATEGORY: NORMAL - 2\n",
        "file = 'content/drive/MyDrive/Lumiere Project/Data/train/normal' \n",
        "\n",
        "for x in glob.iglob(f'{file}/*.png'):\n",
        "  test_image = cv2.imread(x, cv2.IMREAD_GRAYSCALE )\n",
        "\n",
        "  # Formato de imagen\n",
        "  img_resized = cv2.resize(test_image, (320,320), )\n",
        "  img_resized = cv2.bitwise_not(img_resized)\n",
        "\n",
        "  # Guardar imagenes y etiquetas\n",
        "  train_images.append(img_resized)\n",
        "  train_labels.append(2)"
      ],
      "metadata": {
        "id": "_XiVap4jOj2y"
      },
      "execution_count": null,
      "outputs": []
    },
    {
      "cell_type": "code",
      "source": [
        "#CATEGORY: SQUAMOUS - 3\n",
        "file = 'content/drive/MyDrive/Lumiere Project/Data/train/squamous.cell.carcinoma_left.hilum_T1_N2_M0_IIIa' \n",
        "\n",
        "for x in glob.iglob(f'{file}/*.png'):\n",
        "  test_image = cv2.imread(x, cv2.IMREAD_GRAYSCALE )\n",
        "\n",
        "  # Formato de imagen\n",
        "  img_resized = cv2.resize(test_image, (320,320), )\n",
        "  img_resized = cv2.bitwise_not(img_resized)\n",
        "\n",
        "  # Guardar imagenes y etiquetas\n",
        "  train_images.append(img_resized)\n",
        "  train_labels.append(3)"
      ],
      "metadata": {
        "id": "8M6NvpryOkLp"
      },
      "execution_count": null,
      "outputs": []
    },
    {
      "cell_type": "code",
      "source": [
        "train_images = np.array(train_images)\n",
        "train_labels = np.array(train_labels)\n",
        "\n",
        "test_images = np.array(test_images)\n",
        "test_labels = np.array(test_labels)"
      ],
      "metadata": {
        "id": "9JNkYdCfPodj"
      },
      "execution_count": null,
      "outputs": []
    },
    {
      "cell_type": "code",
      "source": [
        "train_images = train_images / 255.0\n",
        "test_images = test_images / 255.0"
      ],
      "metadata": {
        "id": "QmOnFip8Prh4"
      },
      "execution_count": null,
      "outputs": []
    },
    {
      "cell_type": "code",
      "source": [
        "train_images = train_images.reshape(601, 320, 320,1)\n",
        "test_images = test_images.reshape(315, 320, 320,1)"
      ],
      "metadata": {
        "id": "_ebxGr0KmdDd"
      },
      "execution_count": null,
      "outputs": []
    },
    {
      "cell_type": "code",
      "source": [
        "model = models.Sequential()\n",
        "model.add(layers.Conv2D(32, (3, 3), activation='relu', input_shape=(320,320,1))) #1 canal = Grayscale?\n",
        "model.add(layers.MaxPooling2D((2, 2)))\n",
        "model.add(layers.Conv2D(64, (3, 3), activation='relu'))\n",
        "model.add(layers.MaxPooling2D((2, 2)))\n",
        "# model.add(layers.Conv2D(48, (3, 3), activation='relu')) #1 canal = Grayscale?\n",
        "# model.add(layers.MaxPooling2D((2, 2)))\n",
        "# model.add(layers.Conv2D(32, (3, 3), activation='relu'))"
      ],
      "metadata": {
        "id": "5lymwIKImjp4"
      },
      "execution_count": null,
      "outputs": []
    },
    {
      "cell_type": "code",
      "source": [
        "model.add(layers.Flatten())\n",
        "model.add(layers.Dense(64, activation='relu'))\n",
        "model.add(layers.Dropout(0.5))\n",
        "model.add(layers.Dense(32, activation='relu'))\n",
        "model.add(layers.Dropout(0.5))\n",
        "model.add(layers.Dense(4, activation = 'softmax'))"
      ],
      "metadata": {
        "id": "cgZqCJYfmjef"
      },
      "execution_count": null,
      "outputs": []
    },
    {
      "cell_type": "code",
      "source": [
        "model.summary()"
      ],
      "metadata": {
        "id": "QJWtnU92mvOX",
        "colab": {
          "base_uri": "https://localhost:8080/"
        },
        "outputId": "378fffc1-7a30-4ef6-a857-ad87699bf0a8"
      },
      "execution_count": null,
      "outputs": [
        {
          "output_type": "stream",
          "name": "stdout",
          "text": [
            "Model: \"sequential\"\n",
            "_________________________________________________________________\n",
            " Layer (type)                Output Shape              Param #   \n",
            "=================================================================\n",
            " conv2d (Conv2D)             (None, 318, 318, 32)      320       \n",
            "                                                                 \n",
            " max_pooling2d (MaxPooling2D  (None, 159, 159, 32)     0         \n",
            " )                                                               \n",
            "                                                                 \n",
            " conv2d_1 (Conv2D)           (None, 157, 157, 64)      18496     \n",
            "                                                                 \n",
            " max_pooling2d_1 (MaxPooling  (None, 78, 78, 64)       0         \n",
            " 2D)                                                             \n",
            "                                                                 \n",
            " flatten (Flatten)           (None, 389376)            0         \n",
            "                                                                 \n",
            " dense (Dense)               (None, 64)                24920128  \n",
            "                                                                 \n",
            " dropout (Dropout)           (None, 64)                0         \n",
            "                                                                 \n",
            " dense_1 (Dense)             (None, 32)                2080      \n",
            "                                                                 \n",
            " dropout_1 (Dropout)         (None, 32)                0         \n",
            "                                                                 \n",
            " dense_2 (Dense)             (None, 4)                 132       \n",
            "                                                                 \n",
            "=================================================================\n",
            "Total params: 24,941,156\n",
            "Trainable params: 24,941,156\n",
            "Non-trainable params: 0\n",
            "_________________________________________________________________\n"
          ]
        }
      ]
    },
    {
      "cell_type": "code",
      "source": [
        "model.compile(optimizer='adam',\n",
        "              loss=tf.keras.losses.SparseCategoricalCrossentropy(),\n",
        "              metrics=['accuracy'])"
      ],
      "metadata": {
        "id": "JJwSTuJhmvL9"
      },
      "execution_count": null,
      "outputs": []
    },
    {
      "cell_type": "code",
      "source": [
        "callback = tf.keras.callbacks.EarlyStopping(monitor='loss', patience=3)\n",
        "history = model.fit(train_images, train_labels, epochs=50, shuffle=True,\n",
        "                    validation_data=(test_images, test_labels), callbacks=[callback])"
      ],
      "metadata": {
        "id": "Fs4jRlzImvJm",
        "colab": {
          "base_uri": "https://localhost:8080/"
        },
        "outputId": "35069d9c-6d52-4f2b-a030-84dc6cabff02"
      },
      "execution_count": null,
      "outputs": [
        {
          "output_type": "stream",
          "name": "stdout",
          "text": [
            "Epoch 1/50\n",
            "19/19 [==============================] - 15s 162ms/step - loss: 3.8789 - accuracy: 0.2812 - val_loss: 1.2395 - val_accuracy: 0.3937\n",
            "Epoch 2/50\n",
            "19/19 [==============================] - 2s 85ms/step - loss: 1.2367 - accuracy: 0.4509 - val_loss: 1.0656 - val_accuracy: 0.5524\n",
            "Epoch 3/50\n",
            "19/19 [==============================] - 2s 84ms/step - loss: 1.1861 - accuracy: 0.4459 - val_loss: 1.0728 - val_accuracy: 0.5524\n",
            "Epoch 4/50\n",
            "19/19 [==============================] - 2s 89ms/step - loss: 1.0977 - accuracy: 0.4742 - val_loss: 1.0426 - val_accuracy: 0.5333\n",
            "Epoch 5/50\n",
            "19/19 [==============================] - 2s 89ms/step - loss: 1.0996 - accuracy: 0.4992 - val_loss: 1.0487 - val_accuracy: 0.5460\n",
            "Epoch 6/50\n",
            "19/19 [==============================] - 2s 88ms/step - loss: 1.0655 - accuracy: 0.5042 - val_loss: 1.0151 - val_accuracy: 0.5492\n",
            "Epoch 7/50\n",
            "19/19 [==============================] - 2s 86ms/step - loss: 1.0173 - accuracy: 0.5175 - val_loss: 1.0247 - val_accuracy: 0.5492\n",
            "Epoch 8/50\n",
            "19/19 [==============================] - 2s 85ms/step - loss: 1.0051 - accuracy: 0.5291 - val_loss: 1.0240 - val_accuracy: 0.5460\n",
            "Epoch 9/50\n",
            "19/19 [==============================] - 2s 85ms/step - loss: 0.9901 - accuracy: 0.5208 - val_loss: 0.9647 - val_accuracy: 0.5492\n",
            "Epoch 10/50\n",
            "19/19 [==============================] - 2s 85ms/step - loss: 0.9572 - accuracy: 0.5391 - val_loss: 0.9633 - val_accuracy: 0.5460\n",
            "Epoch 11/50\n",
            "19/19 [==============================] - 2s 89ms/step - loss: 0.9732 - accuracy: 0.5291 - val_loss: 1.0297 - val_accuracy: 0.5492\n",
            "Epoch 12/50\n",
            "19/19 [==============================] - 2s 89ms/step - loss: 0.9680 - accuracy: 0.5158 - val_loss: 0.9956 - val_accuracy: 0.5460\n",
            "Epoch 13/50\n",
            "19/19 [==============================] - 2s 94ms/step - loss: 0.9319 - accuracy: 0.5308 - val_loss: 0.9670 - val_accuracy: 0.5460\n",
            "Epoch 14/50\n",
            "19/19 [==============================] - 2s 89ms/step - loss: 0.9328 - accuracy: 0.5175 - val_loss: 1.0053 - val_accuracy: 0.5460\n",
            "Epoch 15/50\n",
            "19/19 [==============================] - 2s 85ms/step - loss: 0.9060 - accuracy: 0.5374 - val_loss: 1.0060 - val_accuracy: 0.5492\n",
            "Epoch 16/50\n",
            "19/19 [==============================] - 2s 86ms/step - loss: 0.9005 - accuracy: 0.5391 - val_loss: 1.0185 - val_accuracy: 0.5365\n",
            "Epoch 17/50\n",
            "19/19 [==============================] - 2s 84ms/step - loss: 0.9130 - accuracy: 0.5308 - val_loss: 0.9886 - val_accuracy: 0.5460\n",
            "Epoch 18/50\n",
            "19/19 [==============================] - 2s 85ms/step - loss: 0.8924 - accuracy: 0.5358 - val_loss: 0.9719 - val_accuracy: 0.5460\n",
            "Epoch 19/50\n",
            "19/19 [==============================] - 2s 85ms/step - loss: 0.8541 - accuracy: 0.5341 - val_loss: 0.9803 - val_accuracy: 0.5365\n",
            "Epoch 20/50\n",
            "19/19 [==============================] - 2s 85ms/step - loss: 0.8485 - accuracy: 0.5507 - val_loss: 0.9655 - val_accuracy: 0.5492\n",
            "Epoch 21/50\n",
            "19/19 [==============================] - 2s 92ms/step - loss: 0.8633 - accuracy: 0.5324 - val_loss: 0.9660 - val_accuracy: 0.5429\n",
            "Epoch 22/50\n",
            "19/19 [==============================] - 2s 95ms/step - loss: 0.8434 - accuracy: 0.5408 - val_loss: 0.9733 - val_accuracy: 0.5429\n",
            "Epoch 23/50\n",
            "19/19 [==============================] - 2s 86ms/step - loss: 0.8192 - accuracy: 0.5358 - val_loss: 0.9572 - val_accuracy: 0.5460\n",
            "Epoch 24/50\n",
            "19/19 [==============================] - 2s 85ms/step - loss: 0.8058 - accuracy: 0.5624 - val_loss: 0.9719 - val_accuracy: 0.5460\n",
            "Epoch 25/50\n",
            "19/19 [==============================] - 2s 88ms/step - loss: 0.7755 - accuracy: 0.5541 - val_loss: 0.9610 - val_accuracy: 0.5492\n",
            "Epoch 26/50\n",
            "19/19 [==============================] - 2s 89ms/step - loss: 0.7966 - accuracy: 0.5607 - val_loss: 0.9800 - val_accuracy: 0.5429\n",
            "Epoch 27/50\n",
            "19/19 [==============================] - 2s 85ms/step - loss: 0.7833 - accuracy: 0.5657 - val_loss: 0.9765 - val_accuracy: 0.5460\n",
            "Epoch 28/50\n",
            "19/19 [==============================] - 2s 86ms/step - loss: 0.7680 - accuracy: 0.5973 - val_loss: 0.9669 - val_accuracy: 0.4952\n",
            "Epoch 29/50\n",
            "19/19 [==============================] - 2s 93ms/step - loss: 0.7694 - accuracy: 0.5607 - val_loss: 1.0010 - val_accuracy: 0.4825\n",
            "Epoch 30/50\n",
            "19/19 [==============================] - 2s 94ms/step - loss: 0.7504 - accuracy: 0.6206 - val_loss: 0.9654 - val_accuracy: 0.4984\n",
            "Epoch 31/50\n",
            "19/19 [==============================] - 2s 86ms/step - loss: 0.7441 - accuracy: 0.6290 - val_loss: 0.9944 - val_accuracy: 0.4984\n",
            "Epoch 32/50\n",
            "19/19 [==============================] - 2s 89ms/step - loss: 0.7338 - accuracy: 0.6423 - val_loss: 0.9944 - val_accuracy: 0.4889\n",
            "Epoch 33/50\n",
            "19/19 [==============================] - 2s 85ms/step - loss: 0.7547 - accuracy: 0.6306 - val_loss: 0.9745 - val_accuracy: 0.4349\n",
            "Epoch 34/50\n",
            "19/19 [==============================] - 2s 88ms/step - loss: 0.7377 - accuracy: 0.6456 - val_loss: 0.9708 - val_accuracy: 0.5048\n",
            "Epoch 35/50\n",
            "19/19 [==============================] - 2s 90ms/step - loss: 0.7334 - accuracy: 0.6356 - val_loss: 1.0072 - val_accuracy: 0.5016\n",
            "Epoch 36/50\n",
            "19/19 [==============================] - 2s 85ms/step - loss: 0.7180 - accuracy: 0.6572 - val_loss: 0.9779 - val_accuracy: 0.5079\n",
            "Epoch 37/50\n",
            "19/19 [==============================] - 2s 93ms/step - loss: 0.7223 - accuracy: 0.6489 - val_loss: 0.9874 - val_accuracy: 0.4952\n",
            "Epoch 38/50\n",
            "19/19 [==============================] - 2s 94ms/step - loss: 0.7666 - accuracy: 0.6256 - val_loss: 1.0549 - val_accuracy: 0.4603\n",
            "Epoch 39/50\n",
            "19/19 [==============================] - 2s 86ms/step - loss: 0.6791 - accuracy: 0.6839 - val_loss: 0.9734 - val_accuracy: 0.4921\n",
            "Epoch 40/50\n",
            "19/19 [==============================] - 2s 86ms/step - loss: 0.7021 - accuracy: 0.6722 - val_loss: 0.9998 - val_accuracy: 0.4984\n",
            "Epoch 41/50\n",
            "19/19 [==============================] - 2s 85ms/step - loss: 0.7085 - accuracy: 0.6789 - val_loss: 1.0131 - val_accuracy: 0.4635\n",
            "Epoch 42/50\n",
            "19/19 [==============================] - 2s 89ms/step - loss: 0.6853 - accuracy: 0.6556 - val_loss: 1.1789 - val_accuracy: 0.4952\n"
          ]
        }
      ]
    },
    {
      "cell_type": "code",
      "source": [
        "plt.plot(history.history['loss'], label='loss')\n",
        "plt.plot(history.history['val_loss'], label = 'val_loss')\n",
        "plt.xlabel('Epoch')\n",
        "plt.ylabel('Loss')\n",
        "plt.legend(loc='lower right')\n",
        "\n",
        "test_loss, test_acc = model.evaluate(test_images,  test_labels, verbose=2)"
      ],
      "metadata": {
        "id": "yoTMJRwimvHS",
        "colab": {
          "base_uri": "https://localhost:8080/",
          "height": 299
        },
        "outputId": "be0b98c7-9421-4c2b-d779-16b0ecf13011"
      },
      "execution_count": null,
      "outputs": [
        {
          "output_type": "stream",
          "name": "stdout",
          "text": [
            "10/10 - 0s - loss: 1.1789 - accuracy: 0.4952 - 249ms/epoch - 25ms/step\n"
          ]
        },
        {
          "output_type": "display_data",
          "data": {
            "text/plain": [
              "<Figure size 432x288 with 1 Axes>"
            ],
            "image/png": "[encoded data removed]"
          },
          "metadata": {
            "needs_background": "light"
          }
        }
      ]
    },
    {
      "cell_type": "code",
      "source": [
        "print(test_acc)"
      ],
      "metadata": {
        "id": "2F_3O91xmvEg",
        "colab": {
          "base_uri": "https://localhost:8080/"
        },
        "outputId": "9c20df6d-6413-4bd8-d9d8-b94ba9d02600"
      },
      "execution_count": null,
      "outputs": [
        {
          "output_type": "stream",
          "name": "stdout",
          "text": [
            "0.4952380955219269\n"
          ]
        }
      ]
    },
    {
      "cell_type": "code",
      "source": [
        "from sklearn import metrics\n",
        "\n",
        "metrics.roc_auc_score(\n",
        "    test_labels, model.predict(test_images), multi_class=\"ovr\", average=\"weighted\"\n",
        "  )"
      ],
      "metadata": {
        "id": "_vDW7EJl2006",
        "colab": {
          "base_uri": "https://localhost:8080/"
        },
        "outputId": "10b2f295-c330-4b72-92d4-83966c6218ce"
      },
      "execution_count": null,
      "outputs": [
        {
          "output_type": "stream",
          "name": "stdout",
          "text": [
            "10/10 [==============================] - 0s 23ms/step\n"
          ]
        },
        {
          "output_type": "execute_result",
          "data": {
            "text/plain": [
              "0.6918965736264585"
            ]
          },
          "metadata": {},
          "execution_count": 25
        }
      ]
    },
    {
      "cell_type": "code",
      "source": [
        "print(metrics.classification_report(test_labels, model.predict(test_images).argmax(axis=-1)))"
      ],
      "metadata": {
        "id": "l5-4eKyw203f",
        "colab": {
          "base_uri": "https://localhost:8080/"
        },
        "outputId": "b4aeca62-7283-46f4-feb9-aa20385fa85d"
      },
      "execution_count": null,
      "outputs": [
        {
          "output_type": "stream",
          "name": "stdout",
          "text": [
            "10/10 [==============================] - 0s 22ms/step\n",
            "              precision    recall  f1-score   support\n",
            "\n",
            "           0       0.47      0.70      0.56       120\n",
            "           1       0.00      0.00      0.00        51\n",
            "           2       1.00      0.94      0.97        54\n",
            "           3       0.25      0.23      0.24        90\n",
            "\n",
            "    accuracy                           0.50       315\n",
            "   macro avg       0.43      0.47      0.44       315\n",
            "weighted avg       0.42      0.50      0.45       315\n",
            "\n"
          ]
        },
        {
          "output_type": "stream",
          "name": "stderr",
          "text": [
            "/usr/local/lib/python3.9/dist-packages/sklearn/metrics/_classification.py:1344: UndefinedMetricWarning: Precision and F-score are ill-defined and being set to 0.0 in labels with no predicted samples. Use `zero_division` parameter to control this behavior.\n",
            "  _warn_prf(average, modifier, msg_start, len(result))\n",
            "/usr/local/lib/python3.9/dist-packages/sklearn/metrics/_classification.py:1344: UndefinedMetricWarning: Precision and F-score are ill-defined and being set to 0.0 in labels with no predicted samples. Use `zero_division` parameter to control this behavior.\n",
            "  _warn_prf(average, modifier, msg_start, len(result))\n",
            "/usr/local/lib/python3.9/dist-packages/sklearn/metrics/_classification.py:1344: UndefinedMetricWarning: Precision and F-score are ill-defined and being set to 0.0 in labels with no predicted samples. Use `zero_division` parameter to control this behavior.\n",
            "  _warn_prf(average, modifier, msg_start, len(result))\n"
          ]
        }
      ]
    },
    {
      "cell_type": "code",
      "source": [
        "cnf_matrix = metrics.confusion_matrix(test_labels, model.predict(test_images).argmax(axis=-1))\n",
        "\n",
        "FP = cnf_matrix.sum(axis=0) - np.diag(cnf_matrix) \n",
        "FN = cnf_matrix.sum(axis=1) - np.diag(cnf_matrix)\n",
        "TP = np.diag(cnf_matrix)\n",
        "TN = cnf_matrix.sum() - (FP + FN + TP)\n",
        "FP = FP.astype(float)\n",
        "FN = FN.astype(float)\n",
        "TP = TP.astype(float)\n",
        "TN = TN.astype(float)\n",
        "# Sensitivity, hit rate, recall, or true positive rate\n",
        "TPR = TP/(TP+FN)\n",
        "# Specificity or true negative rate\n",
        "TNR = TN/(TN+FP) \n",
        "# Precision or positive predictive value\n",
        "PPV = TP/(TP+FP)\n",
        "# Negative predictive value\n",
        "NPV = TN/(TN+FN)\n",
        "# Fall out or false positive rate\n",
        "FPR = FP/(FP+TN)\n",
        "# False negative rate\n",
        "FNR = FN/(TP+FN)\n",
        "# False discovery rate\n",
        "FDR = FP/(TP+FP)\n",
        "# Overall accuracy for each class\n",
        "ACC = (TP+TN)/(TP+FP+FN+TN)"
      ],
      "metadata": {
        "id": "dBtZZfZjlDKX",
        "colab": {
          "base_uri": "https://localhost:8080/"
        },
        "outputId": "0468412d-bd96-46b9-8e0c-e3b8c5bedb88"
      },
      "execution_count": null,
      "outputs": [
        {
          "output_type": "stream",
          "name": "stdout",
          "text": [
            "10/10 [==============================] - 0s 24ms/step\n"
          ]
        },
        {
          "output_type": "stream",
          "name": "stderr",
          "text": [
            "<ipython-input-27-53cac74c51b2>:16: RuntimeWarning: invalid value encountered in true_divide\n",
            "  PPV = TP/(TP+FP)\n",
            "<ipython-input-27-53cac74c51b2>:24: RuntimeWarning: invalid value encountered in true_divide\n",
            "  FDR = FP/(TP+FP)\n"
          ]
        }
      ]
    },
    {
      "cell_type": "code",
      "source": [
        "ACC, TPR, TNR"
      ],
      "metadata": {
        "id": "cbLrpsiMoTMq",
        "colab": {
          "base_uri": "https://localhost:8080/"
        },
        "outputId": "cd96a906-3a3e-4d99-ab87-39dfecd68bcd"
      },
      "execution_count": null,
      "outputs": [
        {
          "output_type": "execute_result",
          "data": {
            "text/plain": [
              "(array([0.58095238, 0.83809524, 0.99047619, 0.58095238]),\n",
              " array([0.7       , 0.        , 0.94444444, 0.23333333]),\n",
              " array([0.50769231, 1.        , 1.        , 0.72      ]))"
            ]
          },
          "metadata": {},
          "execution_count": 28
        }
      ]
    },
    {
      "cell_type": "code",
      "source": [
        "np.mean(ACC), np.mean(TPR), np.mean(TNR)"
      ],
      "metadata": {
        "id": "J2Tw2AsToVvS",
        "colab": {
          "base_uri": "https://localhost:8080/"
        },
        "outputId": "47787284-c335-4182-bf35-4d4b79300d57"
      },
      "execution_count": null,
      "outputs": [
        {
          "output_type": "execute_result",
          "data": {
            "text/plain": [
              "(0.7476190476190477, 0.46944444444444444, 0.8069230769230769)"
            ]
          },
          "metadata": {},
          "execution_count": 29
        }
      ]
    },
    {
      "cell_type": "code",
      "source": [
        "# Autoencoder\n",
        "import keras\n",
        "input_img = keras.Input(shape=(320,320,1))\n",
        "\n",
        "x = layers.Conv2D(16, (3, 3), activation='relu', padding='same')(input_img)\n",
        "x = layers.MaxPooling2D((2, 2), padding='same')(x)\n",
        "x = layers.Conv2D(8, (3, 3), activation='relu', padding='same')(x)\n",
        "x = layers.MaxPooling2D((2, 2), padding='same')(x)\n",
        "x = layers.Conv2D(8, (3, 3), activation='relu', padding='same')(x)\n",
        "encoded = layers.MaxPooling2D((2, 2), padding='same')(x)\n",
        "\n",
        "# at this point the representation is (4, 4, 8) i.e. 128-dimensional\n",
        "\n",
        "x = layers.Conv2D(8, (3, 3), activation='relu', padding='same')(encoded)\n",
        "x = layers.UpSampling2D((2, 2))(x)\n",
        "x = layers.Conv2D(8, (3, 3), activation='relu', padding='same')(x)\n",
        "x = layers.UpSampling2D((2, 2))(x)\n",
        "x = layers.Conv2D(16, (3, 3), activation='relu', padding='same')(x)\n",
        "x = layers.UpSampling2D((2, 2))(x)\n",
        "decoded = layers.Conv2D(1, (3, 3), activation='sigmoid', padding='same')(x)\n",
        "\n",
        "\n",
        "autoencoder = keras.Model(input_img, decoded)\n",
        "autoencoder.compile(optimizer='adam', loss='binary_crossentropy')"
      ],
      "metadata": {
        "id": "wA4-I0VKotZb"
      },
      "execution_count": null,
      "outputs": []
    },
    {
      "cell_type": "code",
      "source": [
        "autoencoder.summary()"
      ],
      "metadata": {
        "id": "OOMW8r_W6Qq6",
        "colab": {
          "base_uri": "https://localhost:8080/"
        },
        "outputId": "ea73c1dd-5442-4dc3-c8d3-f0a4b125406c"
      },
      "execution_count": null,
      "outputs": [
        {
          "output_type": "stream",
          "name": "stdout",
          "text": [
            "Model: \"model\"\n",
            "_________________________________________________________________\n",
            " Layer (type)                Output Shape              Param #   \n",
            "=================================================================\n",
            " input_1 (InputLayer)        [(None, 320, 320, 1)]     0         \n",
            "                                                                 \n",
            " conv2d_2 (Conv2D)           (None, 320, 320, 16)      160       \n",
            "                                                                 \n",
            " max_pooling2d_2 (MaxPooling  (None, 160, 160, 16)     0         \n",
            " 2D)                                                             \n",
            "                                                                 \n",
            " conv2d_3 (Conv2D)           (None, 160, 160, 8)       1160      \n",
            "                                                                 \n",
            " max_pooling2d_3 (MaxPooling  (None, 80, 80, 8)        0         \n",
            " 2D)                                                             \n",
            "                                                                 \n",
            " conv2d_4 (Conv2D)           (None, 80, 80, 8)         584       \n",
            "                                                                 \n",
            " max_pooling2d_4 (MaxPooling  (None, 40, 40, 8)        0         \n",
            " 2D)                                                             \n",
            "                                                                 \n",
            " conv2d_5 (Conv2D)           (None, 40, 40, 8)         584       \n",
            "                                                                 \n",
            " up_sampling2d (UpSampling2D  (None, 80, 80, 8)        0         \n",
            " )                                                               \n",
            "                                                                 \n",
            " conv2d_6 (Conv2D)           (None, 80, 80, 8)         584       \n",
            "                                                                 \n",
            " up_sampling2d_1 (UpSampling  (None, 160, 160, 8)      0         \n",
            " 2D)                                                             \n",
            "                                                                 \n",
            " conv2d_7 (Conv2D)           (None, 160, 160, 16)      1168      \n",
            "                                                                 \n",
            " up_sampling2d_2 (UpSampling  (None, 320, 320, 16)     0         \n",
            " 2D)                                                             \n",
            "                                                                 \n",
            " conv2d_8 (Conv2D)           (None, 320, 320, 1)       145       \n",
            "                                                                 \n",
            "=================================================================\n",
            "Total params: 4,385\n",
            "Trainable params: 4,385\n",
            "Non-trainable params: 0\n",
            "_________________________________________________________________\n"
          ]
        }
      ]
    },
    {
      "cell_type": "code",
      "source": [
        "autoencoder.fit(train_images, train_images,\n",
        "                epochs=50,\n",
        "                batch_size=8,\n",
        "                shuffle=True,\n",
        "                validation_data=(test_images, test_images))"
      ],
      "metadata": {
        "id": "eoXqFeyF0fgX",
        "colab": {
          "base_uri": "https://localhost:8080/"
        },
        "outputId": "82ae676b-fbd8-48f0-cd1c-3fd7a32d9400"
      },
      "execution_count": null,
      "outputs": [
        {
          "output_type": "stream",
          "name": "stdout",
          "text": [
            "Epoch 1/50\n",
            "76/76 [==============================] - 6s 37ms/step - loss: 0.5569 - val_loss: 0.4193\n",
            "Epoch 2/50\n",
            "76/76 [==============================] - 2s 24ms/step - loss: 0.4875 - val_loss: 0.4094\n",
            "Epoch 3/50\n",
            "76/76 [==============================] - 2s 24ms/step - loss: 0.4694 - val_loss: 0.3945\n",
            "Epoch 4/50\n",
            "76/76 [==============================] - 2s 24ms/step - loss: 0.4614 - val_loss: 0.3902\n",
            "Epoch 5/50\n",
            "76/76 [==============================] - 2s 25ms/step - loss: 0.4583 - val_loss: 0.3890\n",
            "Epoch 6/50\n",
            "76/76 [==============================] - 2s 26ms/step - loss: 0.4572 - val_loss: 0.3874\n",
            "Epoch 7/50\n",
            "76/76 [==============================] - 2s 24ms/step - loss: 0.4563 - val_loss: 0.3868\n",
            "Epoch 8/50\n",
            "76/76 [==============================] - 2s 24ms/step - loss: 0.4551 - val_loss: 0.3863\n",
            "Epoch 9/50\n",
            "76/76 [==============================] - 2s 24ms/step - loss: 0.4545 - val_loss: 0.3861\n",
            "Epoch 10/50\n",
            "76/76 [==============================] - 2s 24ms/step - loss: 0.4545 - val_loss: 0.3881\n",
            "Epoch 11/50\n",
            "76/76 [==============================] - 2s 24ms/step - loss: 0.4545 - val_loss: 0.3853\n",
            "Epoch 12/50\n",
            "76/76 [==============================] - 2s 25ms/step - loss: 0.4535 - val_loss: 0.3872\n",
            "Epoch 13/50\n",
            "76/76 [==============================] - 2s 26ms/step - loss: 0.4536 - val_loss: 0.3857\n",
            "Epoch 14/50\n",
            "76/76 [==============================] - 2s 24ms/step - loss: 0.4531 - val_loss: 0.3843\n",
            "Epoch 15/50\n",
            "76/76 [==============================] - 2s 24ms/step - loss: 0.4528 - val_loss: 0.3877\n",
            "Epoch 16/50\n",
            "76/76 [==============================] - 2s 24ms/step - loss: 0.4534 - val_loss: 0.3871\n",
            "Epoch 17/50\n",
            "76/76 [==============================] - 2s 24ms/step - loss: 0.4526 - val_loss: 0.3839\n",
            "Epoch 18/50\n",
            "76/76 [==============================] - 2s 24ms/step - loss: 0.4525 - val_loss: 0.3859\n",
            "Epoch 19/50\n",
            "76/76 [==============================] - 2s 25ms/step - loss: 0.4523 - val_loss: 0.3864\n",
            "Epoch 20/50\n",
            "76/76 [==============================] - 2s 26ms/step - loss: 0.4523 - val_loss: 0.3836\n",
            "Epoch 21/50\n",
            "76/76 [==============================] - 2s 25ms/step - loss: 0.4520 - val_loss: 0.3901\n",
            "Epoch 22/50\n",
            "76/76 [==============================] - 2s 24ms/step - loss: 0.4522 - val_loss: 0.3840\n",
            "Epoch 23/50\n",
            "76/76 [==============================] - 2s 24ms/step - loss: 0.4519 - val_loss: 0.3834\n",
            "Epoch 24/50\n",
            "76/76 [==============================] - 2s 24ms/step - loss: 0.4516 - val_loss: 0.3833\n",
            "Epoch 25/50\n",
            "76/76 [==============================] - 2s 24ms/step - loss: 0.4515 - val_loss: 0.3831\n",
            "Epoch 26/50\n",
            "76/76 [==============================] - 2s 24ms/step - loss: 0.4514 - val_loss: 0.3841\n",
            "Epoch 27/50\n",
            "76/76 [==============================] - 2s 25ms/step - loss: 0.4514 - val_loss: 0.3831\n",
            "Epoch 28/50\n",
            "76/76 [==============================] - 2s 25ms/step - loss: 0.4512 - val_loss: 0.3832\n",
            "Epoch 29/50\n",
            "76/76 [==============================] - 2s 24ms/step - loss: 0.4513 - val_loss: 0.3825\n",
            "Epoch 30/50\n",
            "76/76 [==============================] - 2s 24ms/step - loss: 0.4512 - val_loss: 0.3826\n",
            "Epoch 31/50\n",
            "76/76 [==============================] - 2s 24ms/step - loss: 0.4511 - val_loss: 0.3829\n",
            "Epoch 32/50\n",
            "76/76 [==============================] - 2s 24ms/step - loss: 0.4509 - val_loss: 0.3904\n",
            "Epoch 33/50\n",
            "76/76 [==============================] - 2s 24ms/step - loss: 0.4519 - val_loss: 0.3827\n",
            "Epoch 34/50\n",
            "76/76 [==============================] - 2s 25ms/step - loss: 0.4508 - val_loss: 0.3823\n",
            "Epoch 35/50\n",
            "76/76 [==============================] - 2s 25ms/step - loss: 0.4508 - val_loss: 0.3834\n",
            "Epoch 36/50\n",
            "76/76 [==============================] - 2s 24ms/step - loss: 0.4508 - val_loss: 0.3856\n",
            "Epoch 37/50\n",
            "76/76 [==============================] - 2s 24ms/step - loss: 0.4508 - val_loss: 0.3822\n",
            "Epoch 38/50\n",
            "76/76 [==============================] - 2s 24ms/step - loss: 0.4506 - val_loss: 0.3831\n",
            "Epoch 39/50\n",
            "76/76 [==============================] - 2s 23ms/step - loss: 0.4508 - val_loss: 0.3830\n",
            "Epoch 40/50\n",
            "76/76 [==============================] - 2s 24ms/step - loss: 0.4508 - val_loss: 0.3828\n",
            "Epoch 41/50\n",
            "76/76 [==============================] - 2s 29ms/step - loss: 0.4505 - val_loss: 0.3818\n",
            "Epoch 42/50\n",
            "76/76 [==============================] - 2s 26ms/step - loss: 0.4506 - val_loss: 0.3838\n",
            "Epoch 43/50\n",
            "76/76 [==============================] - 2s 25ms/step - loss: 0.4504 - val_loss: 0.3839\n",
            "Epoch 44/50\n",
            "76/76 [==============================] - 2s 24ms/step - loss: 0.4504 - val_loss: 0.3819\n",
            "Epoch 45/50\n",
            "76/76 [==============================] - 2s 24ms/step - loss: 0.4502 - val_loss: 0.3816\n",
            "Epoch 46/50\n",
            "76/76 [==============================] - 2s 24ms/step - loss: 0.4504 - val_loss: 0.3820\n",
            "Epoch 47/50\n",
            "76/76 [==============================] - 2s 24ms/step - loss: 0.4500 - val_loss: 0.3823\n",
            "Epoch 48/50\n",
            "76/76 [==============================] - 2s 25ms/step - loss: 0.4501 - val_loss: 0.3829\n",
            "Epoch 49/50\n",
            "76/76 [==============================] - 2s 26ms/step - loss: 0.4502 - val_loss: 0.3814\n",
            "Epoch 50/50\n",
            "76/76 [==============================] - 2s 25ms/step - loss: 0.4500 - val_loss: 0.3833\n"
          ]
        },
        {
          "output_type": "execute_result",
          "data": {
            "text/plain": [
              "<keras.callbacks.History at 0x7fbc1a3ac970>"
            ]
          },
          "metadata": {},
          "execution_count": 32
        }
      ]
    },
    {
      "cell_type": "code",
      "source": [
        "autoencoder.save_weights('autoencoder.h5')"
      ],
      "metadata": {
        "id": "83eHMP7_0ztd"
      },
      "execution_count": null,
      "outputs": []
    },
    {
      "cell_type": "code",
      "source": [
        "def encoder(input_img):\n",
        "    #encoder\n",
        "\n",
        "    x = layers.Conv2D(16, (3, 3), activation='relu', padding='same')(input_img)\n",
        "    x = layers.MaxPooling2D((2, 2), padding='same')(x)\n",
        "    x = layers.Conv2D(8, (3, 3), activation='relu', padding='same')(x)\n",
        "    encoded = layers.MaxPooling2D((2, 2), padding='same')(x)\n",
        "    return encoded\n",
        "\n",
        "def fc(enco):\n",
        "    flat = layers.Flatten()(enco)\n",
        "    den = layers.Dense(64, activation='relu')(flat)\n",
        "    out = layers.Dense(4, activation='softmax')(den)\n",
        "    return out\n",
        "\n",
        "encode = encoder(input_img)\n",
        "full_model = keras.Model(input_img,fc(encode))"
      ],
      "metadata": {
        "id": "Tn6kM_y467Xc"
      },
      "execution_count": null,
      "outputs": []
    },
    {
      "cell_type": "code",
      "source": [
        "for l1,l2 in zip(full_model.layers[:3],autoencoder.layers[0:3]):\n",
        "    l1.set_weights(l2.get_weights())"
      ],
      "metadata": {
        "id": "4fEyJwoo7yIk"
      },
      "execution_count": null,
      "outputs": []
    },
    {
      "cell_type": "code",
      "source": [
        "for layer in full_model.layers[0:3]:\n",
        "    layer.trainable = False"
      ],
      "metadata": {
        "id": "Gze6jkg08UTI"
      },
      "execution_count": null,
      "outputs": []
    },
    {
      "cell_type": "code",
      "source": [
        "full_model.compile(loss=keras.losses.SparseCategoricalCrossentropy(), optimizer='adam',metrics=['accuracy'])"
      ],
      "metadata": {
        "id": "ctg0FDcN8Y30"
      },
      "execution_count": null,
      "outputs": []
    },
    {
      "cell_type": "code",
      "source": [
        "callback = tf.keras.callbacks.EarlyStopping(monitor='loss', patience=3)\n",
        "history = full_model.fit(train_images, train_labels, epochs=50, shuffle=True,\n",
        "                    validation_data=(test_images, test_labels), callbacks=[callback])"
      ],
      "metadata": {
        "id": "BoVr646l8fsT",
        "colab": {
          "base_uri": "https://localhost:8080/"
        },
        "outputId": "c44bc196-0da5-4c46-9059-7dac855d73bc"
      },
      "execution_count": null,
      "outputs": [
        {
          "output_type": "stream",
          "name": "stdout",
          "text": [
            "Epoch 1/50\n",
            "19/19 [==============================] - 3s 64ms/step - loss: 1.2387 - accuracy: 0.4809 - val_loss: 0.9542 - val_accuracy: 0.4635\n",
            "Epoch 2/50\n",
            "19/19 [==============================] - 0s 26ms/step - loss: 0.8754 - accuracy: 0.5790 - val_loss: 0.9253 - val_accuracy: 0.4952\n",
            "Epoch 3/50\n",
            "19/19 [==============================] - 0s 25ms/step - loss: 0.7218 - accuracy: 0.6639 - val_loss: 0.9156 - val_accuracy: 0.4889\n",
            "Epoch 4/50\n",
            "19/19 [==============================] - 0s 26ms/step - loss: 0.5485 - accuracy: 0.7920 - val_loss: 1.0691 - val_accuracy: 0.4762\n",
            "Epoch 5/50\n",
            "19/19 [==============================] - 1s 28ms/step - loss: 0.4244 - accuracy: 0.8253 - val_loss: 1.0021 - val_accuracy: 0.4540\n",
            "Epoch 6/50\n",
            "19/19 [==============================] - 0s 26ms/step - loss: 0.2840 - accuracy: 0.9285 - val_loss: 1.2120 - val_accuracy: 0.4921\n",
            "Epoch 7/50\n",
            "19/19 [==============================] - 0s 26ms/step - loss: 0.1857 - accuracy: 0.9534 - val_loss: 1.0672 - val_accuracy: 0.5429\n",
            "Epoch 8/50\n",
            "19/19 [==============================] - 0s 26ms/step - loss: 0.1466 - accuracy: 0.9767 - val_loss: 1.1767 - val_accuracy: 0.4984\n",
            "Epoch 9/50\n",
            "19/19 [==============================] - 1s 28ms/step - loss: 0.1126 - accuracy: 0.9784 - val_loss: 1.4405 - val_accuracy: 0.4889\n",
            "Epoch 10/50\n",
            "19/19 [==============================] - 0s 26ms/step - loss: 0.0795 - accuracy: 0.9900 - val_loss: 1.0905 - val_accuracy: 0.5333\n",
            "Epoch 11/50\n",
            "19/19 [==============================] - 1s 27ms/step - loss: 0.0542 - accuracy: 0.9933 - val_loss: 1.4810 - val_accuracy: 0.4921\n",
            "Epoch 12/50\n",
            "19/19 [==============================] - 0s 26ms/step - loss: 0.0480 - accuracy: 0.9933 - val_loss: 1.2831 - val_accuracy: 0.5302\n",
            "Epoch 13/50\n",
            "19/19 [==============================] - 0s 26ms/step - loss: 0.0471 - accuracy: 0.9983 - val_loss: 1.5219 - val_accuracy: 0.5079\n",
            "Epoch 14/50\n",
            "19/19 [==============================] - 0s 26ms/step - loss: 0.0295 - accuracy: 0.9950 - val_loss: 1.9893 - val_accuracy: 0.4952\n",
            "Epoch 15/50\n",
            "19/19 [==============================] - 0s 26ms/step - loss: 0.0297 - accuracy: 0.9967 - val_loss: 1.5518 - val_accuracy: 0.5238\n",
            "Epoch 16/50\n",
            "19/19 [==============================] - 0s 26ms/step - loss: 0.0275 - accuracy: 0.9967 - val_loss: 1.4740 - val_accuracy: 0.5270\n",
            "Epoch 17/50\n",
            "19/19 [==============================] - 0s 26ms/step - loss: 0.0406 - accuracy: 0.9983 - val_loss: 1.9905 - val_accuracy: 0.4984\n",
            "Epoch 18/50\n",
            "19/19 [==============================] - 1s 28ms/step - loss: 0.0285 - accuracy: 0.9983 - val_loss: 1.5794 - val_accuracy: 0.5048\n",
            "Epoch 19/50\n",
            "19/19 [==============================] - 1s 30ms/step - loss: 0.0433 - accuracy: 0.9983 - val_loss: 1.7900 - val_accuracy: 0.5111\n"
          ]
        }
      ]
    },
    {
      "cell_type": "code",
      "source": [
        "plt.plot(history.history['loss'], label='loss')\n",
        "plt.plot(history.history['val_loss'], label = 'val_loss')\n",
        "plt.xlabel('Epoch')\n",
        "plt.ylabel('Loss')\n",
        "plt.legend(loc='lower right')\n",
        "\n",
        "test_loss, test_acc = model.evaluate(test_images,  test_labels, verbose=2)"
      ],
      "metadata": {
        "id": "kAYNZGKT8on4",
        "colab": {
          "base_uri": "https://localhost:8080/",
          "height": 297
        },
        "outputId": "d6bc4523-e615-4c74-eae8-2a898ed13660"
      },
      "execution_count": null,
      "outputs": [
        {
          "output_type": "stream",
          "name": "stdout",
          "text": [
            "10/10 - 0s - loss: 1.1789 - accuracy: 0.4952 - 265ms/epoch - 27ms/step\n"
          ]
        },
        {
          "output_type": "display_data",
          "data": {
            "text/plain": [
              "<Figure size 432x288 with 1 Axes>"
            ],
            "image/png": "[encoded data removed]"
          },
          "metadata": {
            "needs_background": "light"
          }
        }
      ]
    },
    {
      "cell_type": "code",
      "source": [
        "metrics.roc_auc_score(\n",
        "    test_labels, full_model.predict(test_images), multi_class=\"ovr\", average=\"weighted\"\n",
        "  )"
      ],
      "metadata": {
        "id": "LU4e5r2u8z72",
        "colab": {
          "base_uri": "https://localhost:8080/"
        },
        "outputId": "570d146a-3bce-4687-bfe8-8f8dc7bf03ce"
      },
      "execution_count": null,
      "outputs": [
        {
          "output_type": "stream",
          "name": "stdout",
          "text": [
            "10/10 [==============================] - 0s 11ms/step\n"
          ]
        },
        {
          "output_type": "execute_result",
          "data": {
            "text/plain": [
              "0.7412197602312545"
            ]
          },
          "metadata": {},
          "execution_count": 40
        }
      ]
    },
    {
      "cell_type": "code",
      "source": [
        "cnf_matrix = metrics.confusion_matrix(test_labels, full_model.predict(test_images).argmax(axis=-1))\n",
        "\n",
        "FP = cnf_matrix.sum(axis=0) - np.diag(cnf_matrix) \n",
        "FN = cnf_matrix.sum(axis=1) - np.diag(cnf_matrix)\n",
        "TP = np.diag(cnf_matrix)\n",
        "TN = cnf_matrix.sum() - (FP + FN + TP)\n",
        "FP = FP.astype(float)\n",
        "FN = FN.astype(float)\n",
        "TP = TP.astype(float)\n",
        "TN = TN.astype(float)\n",
        "# Sensitivity, hit rate, recall, or true positive rate\n",
        "TPR = TP/(TP+FN)\n",
        "# Specificity or true negative rate\n",
        "TNR = TN/(TN+FP) \n",
        "# Precision or positive predictive value\n",
        "PPV = TP/(TP+FP)\n",
        "# Negative predictive value\n",
        "NPV = TN/(TN+FN)\n",
        "# Fall out or false positive rate\n",
        "FPR = FP/(FP+TN)\n",
        "# False negative rate\n",
        "FNR = FN/(TP+FN)\n",
        "# False discovery rate\n",
        "FDR = FP/(TP+FP)\n",
        "# Overall accuracy for each class\n",
        "ACC = (TP+TN)/(TP+FP+FN+TN)\n",
        "\n",
        "np.mean(ACC), np.mean(TPR), np.mean(TNR)"
      ],
      "metadata": {
        "id": "hFkAx29Z85PM",
        "colab": {
          "base_uri": "https://localhost:8080/"
        },
        "outputId": "3cfd607b-a261-4604-c6fb-03063b75cf60"
      },
      "execution_count": null,
      "outputs": [
        {
          "output_type": "stream",
          "name": "stdout",
          "text": [
            "10/10 [==============================] - 0s 13ms/step\n"
          ]
        },
        {
          "output_type": "execute_result",
          "data": {
            "text/plain": [
              "(0.7555555555555556, 0.5225354030501089, 0.8232342657342657)"
            ]
          },
          "metadata": {},
          "execution_count": 41
        }
      ]
    },
    {
      "cell_type": "code",
      "source": [
        "# CNN plots\n",
        "from sklearn.preprocessing import label_binarize\n",
        "y_test = label_binarize(test_labels, classes=[0,1,2,3])\n",
        "y_pred = label_binarize(model.predict(test_images).argmax(axis=-1), classes=[0,1,2,3])\n",
        "\n",
        "from sklearn.metrics import RocCurveDisplay\n",
        "RocCurveDisplay.from_predictions(\n",
        "    y_pred.ravel(),\n",
        "    y_test.ravel(),\n",
        "    name=\"micro-average OvR\",\n",
        "    color=\"darkorange\",\n",
        ")\n",
        "plt.plot([0, 1], [0, 1], \"k--\", label=\"chance level (AUC = 0.5)\")\n",
        "plt.axis(\"square\")\n",
        "plt.xlabel(\"False Positive Rate\")\n",
        "plt.ylabel(\"True Positive Rate\")\n",
        "plt.title(\"Micro-averaged One-vs-Rest\\nReceiver Operating Characteristic\")\n",
        "plt.legend()\n",
        "plt.show()"
      ],
      "metadata": {
        "id": "TTCeqnQX64OE",
        "colab": {
          "base_uri": "https://localhost:8080/",
          "height": 328
        },
        "outputId": "17ca5454-447c-4828-9dec-b02e4411a3e2"
      },
      "execution_count": null,
      "outputs": [
        {
          "output_type": "stream",
          "name": "stdout",
          "text": [
            "10/10 [==============================] - 0s 22ms/step\n"
          ]
        },
        {
          "output_type": "display_data",
          "data": {
            "text/plain": [
              "<Figure size 432x288 with 1 Axes>"
            ],
            "image/png": "[encoded data removed]"
          },
          "metadata": {
            "needs_background": "light"
          }
        }
      ]
    },
    {
      "cell_type": "code",
      "source": [
        "# Compute ROC curve and ROC area for each class\n",
        "from sklearn.metrics import roc_curve, auc\n",
        "\n",
        "fpr = dict()\n",
        "tpr = dict()\n",
        "roc_auc = dict()\n",
        "n_classes = 4\n",
        "for i in range(n_classes):\n",
        "    fpr[i], tpr[i], _ = roc_curve(y_test[:, i], y_pred[:, i])\n",
        "    roc_auc[i] = auc(fpr[i], tpr[i])\n",
        "\n",
        "# Plot of a ROC curve for a specific class\n",
        "for i in range(n_classes):\n",
        "    plt.figure()\n",
        "    plt.plot(fpr[i], tpr[i], label='ROC curve (area = %0.2f)' % roc_auc[i])\n",
        "    plt.plot([0, 1], [0, 1], 'k--')\n",
        "    plt.xlim([0.0, 1.0])\n",
        "    plt.ylim([0.0, 1.05])\n",
        "    plt.xlabel('False Positive Rate')\n",
        "    plt.ylabel('True Positive Rate')\n",
        "    plt.title('Receiver operating characteristic example')\n",
        "    plt.legend(loc=\"lower right\")\n",
        "    plt.show()"
      ],
      "metadata": {
        "id": "YJo5Qg0P6-S7",
        "colab": {
          "base_uri": "https://localhost:8080/",
          "height": 1000
        },
        "outputId": "034ce978-1ee4-4d3e-e418-306ddf9ab028"
      },
      "execution_count": null,
      "outputs": [
        {
          "output_type": "display_data",
          "data": {
            "text/plain": [
              "<Figure size 432x288 with 1 Axes>"
            ],
            "image/png": "[encoded data removed]"
          },
          "metadata": {
            "needs_background": "light"
          }
        },
        {
          "output_type": "display_data",
          "data": {
            "text/plain": [
              "<Figure size 432x288 with 1 Axes>"
            ],
            "image/png": "[encoded data removed]"
          },
          "metadata": {
            "needs_background": "light"
          }
        },
        {
          "output_type": "display_data",
          "data": {
            "text/plain": [
              "<Figure size 432x288 with 1 Axes>"
            ],
            "image/png": "[encoded data removed]"
          },
          "metadata": {
            "needs_background": "light"
          }
        },
        {
          "output_type": "display_data",
          "data": {
            "text/plain": [
              "<Figure size 432x288 with 1 Axes>"
            ],
            "image/png": "[encoded data removed]"
          },
          "metadata": {
            "needs_background": "light"
          }
        }
      ]
    },
    {
      "cell_type": "code",
      "source": [
        "from sklearn.preprocessing import label_binarize\n",
        "y_test = label_binarize(test_labels, classes=[0,1,2,3])\n",
        "y_pred = label_binarize(full_model.predict(test_images).argmax(axis=-1), classes=[0,1,2,3])"
      ],
      "metadata": {
        "id": "IDNDQMEG5vHF",
        "colab": {
          "base_uri": "https://localhost:8080/"
        },
        "outputId": "9c5ee8b0-8036-4bed-b73c-dc72e661865c"
      },
      "execution_count": null,
      "outputs": [
        {
          "output_type": "stream",
          "name": "stdout",
          "text": [
            "10/10 [==============================] - 0s 17ms/step\n"
          ]
        }
      ]
    },
    {
      "cell_type": "code",
      "source": [
        "# Autoencoder plots\n",
        "from sklearn.metrics import RocCurveDisplay\n",
        "RocCurveDisplay.from_predictions(\n",
        "    y_pred.ravel(),\n",
        "    y_test.ravel(),\n",
        "    name=\"micro-average OvR\",\n",
        "    color=\"darkorange\",\n",
        ")\n",
        "plt.plot([0, 1], [0, 1], \"k--\", label=\"chance level (AUC = 0.5)\")\n",
        "plt.axis(\"square\")\n",
        "plt.xlabel(\"False Positive Rate\")\n",
        "plt.ylabel(\"True Positive Rate\")\n",
        "plt.title(\"Micro-averaged One-vs-Rest\\nReceiver Operating Characteristic\")\n",
        "plt.legend()\n",
        "plt.show()"
      ],
      "metadata": {
        "id": "me2yjvnD9Anb",
        "colab": {
          "base_uri": "https://localhost:8080/",
          "height": 310
        },
        "outputId": "949f7bdf-08d9-4b32-c624-9031de8ec389"
      },
      "execution_count": null,
      "outputs": [
        {
          "output_type": "display_data",
          "data": {
            "text/plain": [
              "<Figure size 432x288 with 1 Axes>"
            ],
            "image/png": "[encoded data removed]"
          },
          "metadata": {
            "needs_background": "light"
          }
        }
      ]
    },
    {
      "cell_type": "code",
      "source": [
        "# Compute ROC curve and ROC area for each class\n",
        "from sklearn.metrics import roc_curve, auc\n",
        "\n",
        "fpr = dict()\n",
        "tpr = dict()\n",
        "roc_auc = dict()\n",
        "n_classes = 4\n",
        "for i in range(n_classes):\n",
        "    fpr[i], tpr[i], _ = roc_curve(y_test[:, i], y_pred[:, i])\n",
        "    roc_auc[i] = auc(fpr[i], tpr[i])\n",
        "\n",
        "# Plot of a ROC curve for a specific class\n",
        "for i in range(n_classes):\n",
        "    plt.figure()\n",
        "    plt.plot(fpr[i], tpr[i], label='ROC curve (area = %0.2f)' % roc_auc[i])\n",
        "    plt.plot([0, 1], [0, 1], 'k--')\n",
        "    plt.xlim([0.0, 1.0])\n",
        "    plt.ylim([0.0, 1.05])\n",
        "    plt.xlabel('False Positive Rate')\n",
        "    plt.ylabel('True Positive Rate')\n",
        "    plt.title('Receiver operating characteristic example')\n",
        "    plt.legend(loc=\"lower right\")\n",
        "    plt.show()"
      ],
      "metadata": {
        "id": "QM3kSFXk5QpG",
        "colab": {
          "base_uri": "https://localhost:8080/",
          "height": 1000
        },
        "outputId": "18a478fb-f65f-416e-aa26-76d03f61c1fe"
      },
      "execution_count": null,
      "outputs": [
        {
          "output_type": "display_data",
          "data": {
            "text/plain": [
              "<Figure size 432x288 with 1 Axes>"
            ],
            "image/png": "[encoded data removed]"
          },
          "metadata": {
            "needs_background": "light"
          }
        },
        {
          "output_type": "display_data",
          "data": {
            "text/plain": [
              "<Figure size 432x288 with 1 Axes>"
            ],
            "image/png": "[encoded data removed]"
          },
          "metadata": {
            "needs_background": "light"
          }
        },
        {
          "output_type": "display_data",
          "data": {
            "text/plain": [
              "<Figure size 432x288 with 1 Axes>"
            ],
            "image/png": "[encoded data removed]"
          },
          "metadata": {
            "needs_background": "light"
          }
        },
        {
          "output_type": "display_data",
          "data": {
            "text/plain": [
              "<Figure size 432x288 with 1 Axes>"
            ],
            "image/png": "[encoded data removed]"
          },
          "metadata": {
            "needs_background": "light"
          }
        }
      ]
    },
    {
      "cell_type": "code",
      "source": [],
      "metadata": {
        "id": "TZLHaVSx6fQC"
      },
      "execution_count": null,
      "outputs": []
    },
    {
      "cell_type": "markdown",
      "source": [
        "# CNN with Regularisation"
      ],
      "metadata": {
        "id": "Mk0YabthPSkD"
      }
    },
    {
      "cell_type": "code",
      "source": [
        "model = models.Sequential()\n",
        "model.add(layers.Conv2D(32, (3, 3), activation='relu', input_shape=(320,320,1))) #1 canal = Grayscale?\n",
        "model.add(layers.MaxPooling2D((2, 2)))\n",
        "model.add(layers.Conv2D(64, (3, 3), activation='relu'))\n",
        "model.add(layers.MaxPooling2D((2, 2)))"
      ],
      "metadata": {
        "id": "wOMnhUrkPVaZ"
      },
      "execution_count": null,
      "outputs": []
    },
    {
      "cell_type": "code",
      "source": [
        "model.add(layers.Flatten())\n",
        "model.add(layers.Dense(64, activation='relu', kernel_regularizer=regularizers.L1L2(),\n",
        "    bias_regularizer=regularizers.L2(),\n",
        "    activity_regularizer=regularizers.L2()))\n",
        "model.add(layers.Dropout(0.5))\n",
        "model.add(layers.Dense(32, activation='relu', kernel_regularizer=regularizers.L1L2(),\n",
        "    bias_regularizer=regularizers.L2(),\n",
        "    activity_regularizer=regularizers.L2()))\n",
        "model.add(layers.Dropout(0.5))\n",
        "model.add(layers.Dense(4, activation = 'softmax'))"
      ],
      "metadata": {
        "id": "LHy5yCllPZUT"
      },
      "execution_count": null,
      "outputs": []
    },
    {
      "cell_type": "code",
      "source": [
        "model.compile(optimizer='adam',\n",
        "              loss=tf.keras.losses.SparseCategoricalCrossentropy(),\n",
        "              metrics=['accuracy'])"
      ],
      "metadata": {
        "id": "gUpS9s9LPe1-"
      },
      "execution_count": null,
      "outputs": []
    },
    {
      "cell_type": "code",
      "source": [
        "callback = tf.keras.callbacks.EarlyStopping(monitor='loss', patience=3)\n",
        "history = model.fit(train_images, train_labels, epochs=50, shuffle=True,\n",
        "                    validation_data=(test_images, test_labels), callbacks=[callback])"
      ],
      "metadata": {
        "colab": {
          "base_uri": "https://localhost:8080/"
        },
        "id": "E61t0v8YPe4h",
        "outputId": "31208343-77d0-4220-d3e2-1c7d903ccc8e"
      },
      "execution_count": null,
      "outputs": [
        {
          "output_type": "stream",
          "name": "stdout",
          "text": [
            "Epoch 1/50\n",
            "19/19 [==============================] - 4s 115ms/step - loss: 4.5151 - accuracy: 0.2762 - val_loss: 1.3838 - val_accuracy: 0.3810\n",
            "Epoch 2/50\n",
            "19/19 [==============================] - 2s 89ms/step - loss: 1.3838 - accuracy: 0.3261 - val_loss: 1.3806 - val_accuracy: 0.3810\n",
            "Epoch 3/50\n",
            "19/19 [==============================] - 2s 86ms/step - loss: 1.3857 - accuracy: 0.3511 - val_loss: 1.3773 - val_accuracy: 0.3810\n",
            "Epoch 4/50\n",
            "19/19 [==============================] - 2s 85ms/step - loss: 1.3794 - accuracy: 0.3311 - val_loss: 1.3736 - val_accuracy: 0.3810\n",
            "Epoch 5/50\n",
            "19/19 [==============================] - 2s 91ms/step - loss: 1.3775 - accuracy: 0.3444 - val_loss: 1.3547 - val_accuracy: 0.5143\n",
            "Epoch 6/50\n",
            "19/19 [==============================] - 2s 93ms/step - loss: 1.3486 - accuracy: 0.3943 - val_loss: 1.2973 - val_accuracy: 0.2794\n",
            "Epoch 7/50\n",
            "19/19 [==============================] - 2s 87ms/step - loss: 1.3183 - accuracy: 0.4160 - val_loss: 1.2531 - val_accuracy: 0.5524\n",
            "Epoch 8/50\n",
            "19/19 [==============================] - 2s 86ms/step - loss: 1.2664 - accuracy: 0.4493 - val_loss: 1.2347 - val_accuracy: 0.5492\n",
            "Epoch 9/50\n",
            "19/19 [==============================] - 2s 89ms/step - loss: 1.2532 - accuracy: 0.4626 - val_loss: 1.2036 - val_accuracy: 0.5492\n",
            "Epoch 10/50\n",
            "19/19 [==============================] - 2s 85ms/step - loss: 1.1996 - accuracy: 0.4992 - val_loss: 1.1929 - val_accuracy: 0.5460\n",
            "Epoch 11/50\n",
            "19/19 [==============================] - 2s 85ms/step - loss: 1.2282 - accuracy: 0.4725 - val_loss: 1.1823 - val_accuracy: 0.5460\n",
            "Epoch 12/50\n",
            "19/19 [==============================] - 2s 85ms/step - loss: 1.2003 - accuracy: 0.4875 - val_loss: 1.1695 - val_accuracy: 0.5460\n",
            "Epoch 13/50\n",
            "19/19 [==============================] - 2s 90ms/step - loss: 1.1803 - accuracy: 0.4942 - val_loss: 1.1532 - val_accuracy: 0.5460\n",
            "Epoch 14/50\n",
            "19/19 [==============================] - 2s 90ms/step - loss: 1.1833 - accuracy: 0.4925 - val_loss: 1.1518 - val_accuracy: 0.5460\n",
            "Epoch 15/50\n",
            "19/19 [==============================] - 2s 87ms/step - loss: 1.1691 - accuracy: 0.4942 - val_loss: 1.1437 - val_accuracy: 0.5460\n",
            "Epoch 16/50\n",
            "19/19 [==============================] - 2s 85ms/step - loss: 1.1649 - accuracy: 0.4958 - val_loss: 1.1312 - val_accuracy: 0.5460\n",
            "Epoch 17/50\n",
            "19/19 [==============================] - 2s 85ms/step - loss: 1.1601 - accuracy: 0.4958 - val_loss: 1.1215 - val_accuracy: 0.5460\n",
            "Epoch 18/50\n",
            "19/19 [==============================] - 2s 85ms/step - loss: 1.1470 - accuracy: 0.5008 - val_loss: 1.1180 - val_accuracy: 0.5460\n",
            "Epoch 19/50\n",
            "19/19 [==============================] - 2s 85ms/step - loss: 1.1473 - accuracy: 0.4958 - val_loss: 1.1099 - val_accuracy: 0.5460\n",
            "Epoch 20/50\n",
            "19/19 [==============================] - 2s 85ms/step - loss: 1.1357 - accuracy: 0.4992 - val_loss: 1.1128 - val_accuracy: 0.5460\n",
            "Epoch 21/50\n",
            "19/19 [==============================] - 2s 90ms/step - loss: 1.1473 - accuracy: 0.4925 - val_loss: 1.1093 - val_accuracy: 0.5460\n",
            "Epoch 22/50\n",
            "19/19 [==============================] - 2s 87ms/step - loss: 1.1276 - accuracy: 0.5042 - val_loss: 1.0964 - val_accuracy: 0.5460\n",
            "Epoch 23/50\n",
            "19/19 [==============================] - 2s 88ms/step - loss: 1.1188 - accuracy: 0.5042 - val_loss: 1.0964 - val_accuracy: 0.5460\n",
            "Epoch 24/50\n",
            "19/19 [==============================] - 2s 86ms/step - loss: 1.1231 - accuracy: 0.5025 - val_loss: 1.1024 - val_accuracy: 0.5365\n",
            "Epoch 25/50\n",
            "19/19 [==============================] - 2s 85ms/step - loss: 1.1255 - accuracy: 0.4992 - val_loss: 1.0937 - val_accuracy: 0.5365\n",
            "Epoch 26/50\n",
            "19/19 [==============================] - 2s 85ms/step - loss: 1.1213 - accuracy: 0.5025 - val_loss: 1.0908 - val_accuracy: 0.5365\n"
          ]
        }
      ]
    },
    {
      "cell_type": "code",
      "source": [
        "plt.plot(history.history['loss'], label='loss')\n",
        "plt.plot(history.history['val_loss'], label = 'val_loss')\n",
        "plt.xlabel('Epoch')\n",
        "plt.ylabel('Loss')\n",
        "plt.legend(loc='lower right')\n",
        "\n",
        "test_loss, test_acc = model.evaluate(test_images,  test_labels, verbose=2)"
      ],
      "metadata": {
        "colab": {
          "base_uri": "https://localhost:8080/",
          "height": 297
        },
        "id": "98pZ9ekhPe6o",
        "outputId": "f0728961-ce0d-474a-f99c-2f9a51e252e5"
      },
      "execution_count": null,
      "outputs": [
        {
          "output_type": "stream",
          "name": "stdout",
          "text": [
            "10/10 - 0s - loss: 1.0908 - accuracy: 0.5365 - 263ms/epoch - 26ms/step\n"
          ]
        },
        {
          "output_type": "display_data",
          "data": {
            "text/plain": [
              "<Figure size 432x288 with 1 Axes>"
            ],
            "image/png": "[encoded data removed]"
          },
          "metadata": {
            "needs_background": "light"
          }
        }
      ]
    },
    {
      "cell_type": "code",
      "source": [
        "from sklearn import metrics\n",
        "\n",
        "metrics.roc_auc_score(\n",
        "    test_labels, model.predict(test_images), multi_class=\"ovr\", average=\"weighted\"\n",
        "  )"
      ],
      "metadata": {
        "colab": {
          "base_uri": "https://localhost:8080/"
        },
        "id": "O3LQ8fHoPe8t",
        "outputId": "5c9d6167-36b1-49c8-d2ca-9ec6f78ea20d"
      },
      "execution_count": null,
      "outputs": [
        {
          "output_type": "stream",
          "name": "stdout",
          "text": [
            "10/10 [==============================] - 0s 21ms/step\n"
          ]
        },
        {
          "output_type": "execute_result",
          "data": {
            "text/plain": [
              "0.6835399249537182"
            ]
          },
          "metadata": {},
          "execution_count": 52
        }
      ]
    },
    {
      "cell_type": "code",
      "source": [
        "cnf_matrix = metrics.confusion_matrix(test_labels, model.predict(test_images).argmax(axis=-1))\n",
        "\n",
        "FP = cnf_matrix.sum(axis=0) - np.diag(cnf_matrix) \n",
        "FN = cnf_matrix.sum(axis=1) - np.diag(cnf_matrix)\n",
        "TP = np.diag(cnf_matrix)\n",
        "TN = cnf_matrix.sum() - (FP + FN + TP)\n",
        "FP = FP.astype(float)\n",
        "FN = FN.astype(float)\n",
        "TP = TP.astype(float)\n",
        "TN = TN.astype(float)\n",
        "# Sensitivity, hit rate, recall, or true positive rate\n",
        "TPR = TP/(TP+FN)\n",
        "# Specificity or true negative rate\n",
        "TNR = TN/(TN+FP) \n",
        "# Precision or positive predictive value\n",
        "PPV = TP/(TP+FP)\n",
        "# Negative predictive value\n",
        "NPV = TN/(TN+FN)\n",
        "# Fall out or false positive rate\n",
        "FPR = FP/(FP+TN)\n",
        "# False negative rate\n",
        "FNR = FN/(TP+FN)\n",
        "# False discovery rate\n",
        "FDR = FP/(TP+FP)\n",
        "# Overall accuracy for each class\n",
        "ACC = (TP+TN)/(TP+FP+FN+TN)"
      ],
      "metadata": {
        "colab": {
          "base_uri": "https://localhost:8080/"
        },
        "id": "OkQT9PTVPyOU",
        "outputId": "0ecbdbe1-50c9-4d62-bef5-4d7b53500515"
      },
      "execution_count": null,
      "outputs": [
        {
          "output_type": "stream",
          "name": "stdout",
          "text": [
            "10/10 [==============================] - 0s 22ms/step\n"
          ]
        },
        {
          "output_type": "stream",
          "name": "stderr",
          "text": [
            "<ipython-input-53-53cac74c51b2>:16: RuntimeWarning: invalid value encountered in true_divide\n",
            "  PPV = TP/(TP+FP)\n",
            "<ipython-input-53-53cac74c51b2>:24: RuntimeWarning: invalid value encountered in true_divide\n",
            "  FDR = FP/(TP+FP)\n"
          ]
        }
      ]
    },
    {
      "cell_type": "code",
      "source": [
        "np.mean(ACC), np.mean(TPR), np.mean(TNR)"
      ],
      "metadata": {
        "colab": {
          "base_uri": "https://localhost:8080/"
        },
        "id": "o7gGYTO6Qfmu",
        "outputId": "b282862c-f626-4ebf-e091-0749961290e6"
      },
      "execution_count": null,
      "outputs": [
        {
          "output_type": "execute_result",
          "data": {
            "text/plain": [
              "(0.7682539682539683, 0.47685185185185186, 0.8128205128205128)"
            ]
          },
          "metadata": {},
          "execution_count": 54
        }
      ]
    },
    {
      "cell_type": "code",
      "source": [],
      "metadata": {
        "id": "3kzD-5i9R-x7"
      },
      "execution_count": null,
      "outputs": []
    },
    {
      "cell_type": "markdown",
      "source": [
        "# InceptionV3"
      ],
      "metadata": {
        "id": "ohEMA9HjSWyH"
      }
    },
    {
      "cell_type": "code",
      "source": [
        "from keras.applications.inception_v3 import InceptionV3, preprocess_input\n",
        "from torchvision import transforms"
      ],
      "metadata": {
        "id": "mmO5sx76SYlJ"
      },
      "execution_count": null,
      "outputs": []
    },
    {
      "cell_type": "code",
      "source": [
        "greyscale_tfm = transforms.Grayscale(num_output_channels=3)\n",
        "PIL = transforms.ToPILImage()"
      ],
      "metadata": {
        "id": "tQj6IUsLTsqa"
      },
      "execution_count": null,
      "outputs": []
    },
    {
      "cell_type": "code",
      "source": [
        "train_images = []\n",
        "train_labels = []\n",
        "\n",
        "test_images  = []\n",
        "test_labels  = []"
      ],
      "metadata": {
        "id": "yF7loNIan2Fh"
      },
      "execution_count": null,
      "outputs": []
    },
    {
      "cell_type": "code",
      "source": [
        "#TEST DATASET\n",
        "#CATEGORY: ADENOCARCINOMA - 0\n",
        "file = 'content/drive/MyDrive/Lumiere Project/Data/test/adenocarcinoma' \n",
        "\n",
        "for x in glob.iglob(f'{file}/*.png'):\n",
        "  #plt.imshow(x, cmap='gray')\n",
        "  #print(x)\n",
        "  test_image = cv2.imread(x, cv2.IMREAD_GRAYSCALE )\n",
        "\n",
        "  # Formato de imagen\n",
        "  img_resized = cv2.resize(test_image, (320,320), )\n",
        "  img_resized = cv2.bitwise_not(img_resized)\n",
        "  img_resized = PIL(img_resized)\n",
        "  img_resized = greyscale_tfm(img_resized)\n",
        "  img_resized = np.array(img_resized)\n",
        "  img_resized = img_resized / 255\n",
        "  # Guardar imagenes y etiquetas\n",
        "  test_images.append(img_resized)\n",
        "  test_labels.append(0)\n",
        "\n",
        "file = 'content/drive/MyDrive/Lumiere Project/Data/test/large.cell.carcinoma' \n",
        "\n",
        "for x in glob.iglob(f'{file}/*.png'):\n",
        "  test_image = cv2.imread(x, cv2.IMREAD_GRAYSCALE )\n",
        "\n",
        "  # Formato de imagen\n",
        "  img_resized = cv2.resize(test_image, (320,320), )\n",
        "  img_resized = cv2.bitwise_not(img_resized)\n",
        "  img_resized = PIL(img_resized)\n",
        "  img_resized = greyscale_tfm(img_resized)\n",
        "  img_resized = np.array(img_resized)\n",
        "  img_resized = img_resized / 255\n",
        "  # Guardar imagenes y etiquetas\n",
        "  test_images.append(img_resized)\n",
        "  test_labels.append(1)\n",
        "\n",
        "#CATEGORY: NORMAL - 2\n",
        "file = 'content/drive/MyDrive/Lumiere Project/Data/test/normal' \n",
        "\n",
        "for x in glob.iglob(f'{file}/*.png'):\n",
        "  test_image = cv2.imread(x, cv2.IMREAD_GRAYSCALE )\n",
        "\n",
        "  # Formato de imagen\n",
        "  img_resized = cv2.resize(test_image, (320,320), )\n",
        "  img_resized = cv2.bitwise_not(img_resized)\n",
        "  img_resized = PIL(img_resized)\n",
        "  img_resized = greyscale_tfm(img_resized)\n",
        "  img_resized = np.array(img_resized)\n",
        "  img_resized = img_resized / 255\n",
        "  # Guardar imagenes y etiquetas\n",
        "  test_images.append(img_resized)\n",
        "  test_labels.append(2)\n",
        "\n",
        "#CATEGORY: SQUAMOUS - 3\n",
        "file = 'content/drive/MyDrive/Lumiere Project/Data/test/squamous.cell.carcinoma' \n",
        "\n",
        "for x in glob.iglob(f'{file}/*.png'):\n",
        "  test_image = cv2.imread(x, cv2.IMREAD_GRAYSCALE )\n",
        "\n",
        "  # Formato de imagen\n",
        "  img_resized = cv2.resize(test_image, (320,320), )\n",
        "  img_resized = cv2.bitwise_not(img_resized)\n",
        "  img_resized = PIL(img_resized)\n",
        "  img_resized = greyscale_tfm(img_resized)\n",
        "  img_resized = np.array(img_resized)\n",
        "  img_resized = img_resized / 255\n",
        "  # Guardar imagenes y etiquetas\n",
        "  test_images.append(img_resized)\n",
        "  test_labels.append(3)\n",
        "\n",
        "#TRAIN DATASET\n",
        "#CATEGORY: ADENOCARCINOMA - 0\n",
        "file = 'content/drive/MyDrive/Lumiere Project/Data/train/adenocarcinoma_left.lower.lobe_T2_N0_M0_Ib' \n",
        "\n",
        "for x in glob.iglob(f'{file}/*.png'):\n",
        "  #plt.imshow(x, cmap='gray')\n",
        "  #print(x)\n",
        "  test_image = cv2.imread(x, cv2.IMREAD_GRAYSCALE )\n",
        "\n",
        "  # Formato de imagen\n",
        "  img_resized = cv2.resize(test_image, (320,320), )\n",
        "  img_resized = cv2.bitwise_not(img_resized)\n",
        "  img_resized = PIL(img_resized)\n",
        "  img_resized = greyscale_tfm(img_resized)\n",
        "  img_resized = np.array(img_resized)\n",
        "  img_resized = img_resized / 255\n",
        "  # Guardar imagenes y etiquetas\n",
        "  train_images.append(img_resized)\n",
        "  train_labels.append(0)\n",
        "\n",
        "#CATEGORY: LARGE CELL CARCINOMA - 1\n",
        "file = 'content/drive/MyDrive/Lumiere Project/Data/train/large.cell.carcinoma_left.hilum_T2_N2_M0_IIIa' \n",
        "\n",
        "for x in glob.iglob(f'{file}/*.png'):\n",
        "  test_image = cv2.imread(x, cv2.IMREAD_GRAYSCALE )\n",
        "\n",
        "  # Formato de imagen\n",
        "  img_resized = cv2.resize(test_image, (320,320), )\n",
        "  img_resized = cv2.bitwise_not(img_resized)\n",
        "  img_resized = PIL(img_resized)\n",
        "  img_resized = greyscale_tfm(img_resized)\n",
        "  img_resized = np.array(img_resized)\n",
        "  img_resized = img_resized / 255\n",
        "  # Guardar imagenes y etiquetas\n",
        "  train_images.append(img_resized)\n",
        "  train_labels.append(1)\n",
        "\n",
        "#CATEGORY: NORMAL - 2\n",
        "file = 'content/drive/MyDrive/Lumiere Project/Data/train/normal' \n",
        "\n",
        "for x in glob.iglob(f'{file}/*.png'):\n",
        "  test_image = cv2.imread(x, cv2.IMREAD_GRAYSCALE )\n",
        "\n",
        "  # Formato de imagen\n",
        "  img_resized = cv2.resize(test_image, (320,320), )\n",
        "  img_resized = cv2.bitwise_not(img_resized)\n",
        "  img_resized = PIL(img_resized)\n",
        "  img_resized = greyscale_tfm(img_resized)\n",
        "  img_resized = np.array(img_resized)\n",
        "  img_resized = img_resized / 255\n",
        "  # Guardar imagenes y etiquetas\n",
        "  train_images.append(img_resized)\n",
        "  train_labels.append(2)\n",
        "\n",
        "#CATEGORY: SQUAMOUS - 3\n",
        "file = 'content/drive/MyDrive/Lumiere Project/Data/train/squamous.cell.carcinoma_left.hilum_T1_N2_M0_IIIa' \n",
        "\n",
        "for x in glob.iglob(f'{file}/*.png'):\n",
        "  test_image = cv2.imread(x, cv2.IMREAD_GRAYSCALE )\n",
        "\n",
        "  # Formato de imagen\n",
        "  img_resized = cv2.resize(test_image, (320,320), )\n",
        "  img_resized = cv2.bitwise_not(img_resized)\n",
        "  img_resized = PIL(img_resized)\n",
        "  img_resized = greyscale_tfm(img_resized)\n",
        "  img_resized = np.array(img_resized)\n",
        "  img_resized = img_resized / 255\n",
        "  # Guardar imagenes y etiquetas\n",
        "  train_images.append(img_resized)\n",
        "  train_labels.append(3)"
      ],
      "metadata": {
        "id": "7K_jbO97n2gU"
      },
      "execution_count": null,
      "outputs": []
    },
    {
      "cell_type": "code",
      "source": [
        "train_images = np.array(train_images)\n",
        "train_labels = np.array(train_labels)\n",
        "\n",
        "test_images = np.array(test_images)\n",
        "test_labels = np.array(test_labels)"
      ],
      "metadata": {
        "id": "lhkZDk5on2j9"
      },
      "execution_count": null,
      "outputs": []
    },
    {
      "cell_type": "code",
      "source": [
        "train_images = train_images.reshape(601, 320, 320,3)\n",
        "test_images = test_images.reshape(315, 320, 320,3)"
      ],
      "metadata": {
        "id": "kWzHV9xTn2mR"
      },
      "execution_count": null,
      "outputs": []
    },
    {
      "cell_type": "code",
      "source": [
        "# Import InceptionV3 Model\n",
        "# https://github.com/kohpangwei/influence-release\n",
        "inc_model = InceptionV3(weights='imagenet',\n",
        "                        include_top=False,\n",
        "                        input_shape=(320, 320, 3))\n",
        "\n",
        "print(\"number of layers:\", len(inc_model.layers))"
      ],
      "metadata": {
        "colab": {
          "base_uri": "https://localhost:8080/"
        },
        "id": "5pxj6rTJSZfR",
        "outputId": "811ae5f5-ac4b-4f2e-ecd7-3bab70f6a6e9"
      },
      "execution_count": null,
      "outputs": [
        {
          "output_type": "stream",
          "name": "stdout",
          "text": [
            "Downloading data from https://storage.googleapis.com/tensorflow/keras-applications/inception_v3/inception_v3_weights_tf_dim_ordering_tf_kernels_notop.h5\n",
            "87910968/87910968 [==============================] - 5s 0us/step\n",
            "number of layers: 311\n"
          ]
        }
      ]
    },
    {
      "cell_type": "code",
      "source": [
        "#Adding custom Layers\n",
        "x = inc_model.output\n",
        "x = layers.GlobalAveragePooling2D()(x)\n",
        "x = layers.Dense(64, activation='relu', kernel_regularizer=regularizers.L1L2(),\n",
        "    bias_regularizer=regularizers.L2(),\n",
        "    activity_regularizer=regularizers.L2())(x)\n",
        "x = layers.Dropout(0.5)(x)\n",
        "x = layers.Dense(32, activation='relu', kernel_regularizer=regularizers.L1L2(),\n",
        "    bias_regularizer=regularizers.L2(),\n",
        "    activity_regularizer=regularizers.L2())(x)\n",
        "x = layers.Dropout(0.5)(x)\n",
        "predictions = layers.Dense(4, activation = 'softmax')(x)"
      ],
      "metadata": {
        "id": "uL7kUzGkSZiN"
      },
      "execution_count": null,
      "outputs": []
    },
    {
      "cell_type": "code",
      "source": [
        "# Custom layers are fed into the main model\n",
        "model_ = models.Model(inputs=inc_model.input, outputs=predictions)\n",
        "\n",
        "# Stops the main frozen body of the architecture to be updated through backprop\n",
        "for layer in model_.layers[:52]:\n",
        "    layer.trainable = False\n",
        "\n",
        "# compile the model\n",
        "model_.compile(optimizer='adam'\n",
        "                    , loss=tf.keras.losses.SparseCategoricalCrossentropy()\n",
        "                    , metrics=['accuracy'])"
      ],
      "metadata": {
        "id": "blVTmfkISZmx"
      },
      "execution_count": null,
      "outputs": []
    },
    {
      "cell_type": "code",
      "source": [
        "from keras.callbacks import ModelCheckpoint\n",
        "checkpointer = ModelCheckpoint(filepath='weights.best.inc.smiling.hdf5', \n",
        "                               verbose=1, save_best_only=True)\n",
        "\n",
        "callback = tf.keras.callbacks.EarlyStopping(monitor='loss', patience=3)"
      ],
      "metadata": {
        "id": "YYxt_tVXtHUL"
      },
      "execution_count": null,
      "outputs": []
    },
    {
      "cell_type": "code",
      "source": [
        "history = model_.fit(train_images, train_labels, epochs=50, shuffle=True,\n",
        "                    validation_data=(test_images, test_labels), callbacks=[callback, checkpointer])"
      ],
      "metadata": {
        "colab": {
          "base_uri": "https://localhost:8080/"
        },
        "id": "Y0O_JhgYtsvI",
        "outputId": "6216650e-59c0-47be-b59b-81b65c71f9a5"
      },
      "execution_count": null,
      "outputs": [
        {
          "output_type": "stream",
          "name": "stdout",
          "text": [
            "Epoch 1/50\n",
            "19/19 [==============================] - ETA: 0s - loss: 1.4095 - accuracy: 0.3295\n",
            "Epoch 1: val_loss improved from inf to 402.73914, saving model to weights.best.inc.smiling.hdf5\n",
            "19/19 [==============================] - 54s 913ms/step - loss: 1.4095 - accuracy: 0.3295 - val_loss: 402.7391 - val_accuracy: 0.1714\n",
            "Epoch 2/50\n",
            "19/19 [==============================] - ETA: 0s - loss: 1.2926 - accuracy: 0.4326\n",
            "Epoch 2: val_loss did not improve from 402.73914\n",
            "19/19 [==============================] - 9s 494ms/step - loss: 1.2926 - accuracy: 0.4326 - val_loss: 1820169.7500 - val_accuracy: 0.1714\n",
            "Epoch 3/50\n",
            "19/19 [==============================] - ETA: 0s - loss: 1.2620 - accuracy: 0.4775\n",
            "Epoch 3: val_loss improved from 402.73914 to 196.75162, saving model to weights.best.inc.smiling.hdf5\n",
            "19/19 [==============================] - 11s 579ms/step - loss: 1.2620 - accuracy: 0.4775 - val_loss: 196.7516 - val_accuracy: 0.1714\n",
            "Epoch 4/50\n",
            "19/19 [==============================] - ETA: 0s - loss: 1.1458 - accuracy: 0.5624\n",
            "Epoch 4: val_loss did not improve from 196.75162\n",
            "19/19 [==============================] - 9s 487ms/step - loss: 1.1458 - accuracy: 0.5624 - val_loss: 910.3126 - val_accuracy: 0.3556\n",
            "Epoch 5/50\n",
            "19/19 [==============================] - ETA: 0s - loss: 1.0844 - accuracy: 0.5973\n",
            "Epoch 5: val_loss improved from 196.75162 to 89.11588, saving model to weights.best.inc.smiling.hdf5\n",
            "19/19 [==============================] - 10s 561ms/step - loss: 1.0844 - accuracy: 0.5973 - val_loss: 89.1159 - val_accuracy: 0.3397\n",
            "Epoch 6/50\n",
            "19/19 [==============================] - ETA: 0s - loss: 0.9517 - accuracy: 0.7255\n",
            "Epoch 6: val_loss improved from 89.11588 to 9.87593, saving model to weights.best.inc.smiling.hdf5\n",
            "19/19 [==============================] - 10s 560ms/step - loss: 0.9517 - accuracy: 0.7255 - val_loss: 9.8759 - val_accuracy: 0.3492\n",
            "Epoch 7/50\n",
            "19/19 [==============================] - ETA: 0s - loss: 0.9009 - accuracy: 0.7770\n",
            "Epoch 7: val_loss improved from 9.87593 to 1.82720, saving model to weights.best.inc.smiling.hdf5\n",
            "19/19 [==============================] - 9s 500ms/step - loss: 0.9009 - accuracy: 0.7770 - val_loss: 1.8272 - val_accuracy: 0.5841\n",
            "Epoch 8/50\n",
            "19/19 [==============================] - ETA: 0s - loss: 0.8592 - accuracy: 0.7704\n",
            "Epoch 8: val_loss did not improve from 1.82720\n",
            "19/19 [==============================] - 9s 486ms/step - loss: 0.8592 - accuracy: 0.7704 - val_loss: 2257.5991 - val_accuracy: 0.1714\n",
            "Epoch 9/50\n",
            "19/19 [==============================] - ETA: 0s - loss: 0.7751 - accuracy: 0.8070\n",
            "Epoch 9: val_loss did not improve from 1.82720\n",
            "19/19 [==============================] - 9s 493ms/step - loss: 0.7751 - accuracy: 0.8070 - val_loss: 211.4526 - val_accuracy: 0.1714\n",
            "Epoch 10/50\n",
            "19/19 [==============================] - ETA: 0s - loss: 0.6657 - accuracy: 0.8602\n",
            "Epoch 10: val_loss did not improve from 1.82720\n",
            "19/19 [==============================] - 9s 485ms/step - loss: 0.6657 - accuracy: 0.8602 - val_loss: 127.9723 - val_accuracy: 0.2508\n",
            "Epoch 11/50\n",
            "19/19 [==============================] - ETA: 0s - loss: 0.6291 - accuracy: 0.8602\n",
            "Epoch 11: val_loss did not improve from 1.82720\n",
            "19/19 [==============================] - 8s 419ms/step - loss: 0.6291 - accuracy: 0.8602 - val_loss: 17.4638 - val_accuracy: 0.3587\n",
            "Epoch 12/50\n",
            "19/19 [==============================] - ETA: 0s - loss: 0.5458 - accuracy: 0.9334\n",
            "Epoch 12: val_loss did not improve from 1.82720\n",
            "19/19 [==============================] - 8s 424ms/step - loss: 0.5458 - accuracy: 0.9334 - val_loss: 7.7089 - val_accuracy: 0.2698\n",
            "Epoch 13/50\n",
            "19/19 [==============================] - ETA: 0s - loss: 0.5909 - accuracy: 0.8785\n",
            "Epoch 13: val_loss did not improve from 1.82720\n",
            "19/19 [==============================] - 9s 484ms/step - loss: 0.5909 - accuracy: 0.8785 - val_loss: 19.3831 - val_accuracy: 0.1937\n",
            "Epoch 14/50\n",
            "19/19 [==============================] - ETA: 0s - loss: 0.5710 - accuracy: 0.8952\n",
            "Epoch 14: val_loss did not improve from 1.82720\n",
            "19/19 [==============================] - 9s 485ms/step - loss: 0.5710 - accuracy: 0.8952 - val_loss: 18.8811 - val_accuracy: 0.7587\n",
            "Epoch 15/50\n",
            "19/19 [==============================] - ETA: 0s - loss: 0.5398 - accuracy: 0.9068\n",
            "Epoch 15: val_loss did not improve from 1.82720\n",
            "19/19 [==============================] - 8s 423ms/step - loss: 0.5398 - accuracy: 0.9068 - val_loss: 4457.7661 - val_accuracy: 0.2444\n",
            "Epoch 16/50\n",
            "19/19 [==============================] - ETA: 0s - loss: 0.4938 - accuracy: 0.9151\n",
            "Epoch 16: val_loss did not improve from 1.82720\n",
            "19/19 [==============================] - 9s 482ms/step - loss: 0.4938 - accuracy: 0.9151 - val_loss: 532.8637 - val_accuracy: 0.2857\n",
            "Epoch 17/50\n",
            "19/19 [==============================] - ETA: 0s - loss: 0.4423 - accuracy: 0.9301\n",
            "Epoch 17: val_loss did not improve from 1.82720\n",
            "19/19 [==============================] - 9s 485ms/step - loss: 0.4423 - accuracy: 0.9301 - val_loss: 280.3416 - val_accuracy: 0.2921\n",
            "Epoch 18/50\n",
            "19/19 [==============================] - ETA: 0s - loss: 0.4884 - accuracy: 0.9085\n",
            "Epoch 18: val_loss did not improve from 1.82720\n",
            "19/19 [==============================] - 8s 428ms/step - loss: 0.4884 - accuracy: 0.9085 - val_loss: 6.2319 - val_accuracy: 0.7079\n",
            "Epoch 19/50\n",
            "19/19 [==============================] - ETA: 0s - loss: 0.5203 - accuracy: 0.8985\n",
            "Epoch 19: val_loss did not improve from 1.82720\n",
            "19/19 [==============================] - 8s 418ms/step - loss: 0.5203 - accuracy: 0.8985 - val_loss: 1.8704 - val_accuracy: 0.6222\n",
            "Epoch 20/50\n",
            "19/19 [==============================] - ETA: 0s - loss: 0.5596 - accuracy: 0.8752\n",
            "Epoch 20: val_loss did not improve from 1.82720\n",
            "19/19 [==============================] - 8s 425ms/step - loss: 0.5596 - accuracy: 0.8752 - val_loss: 18.7389 - val_accuracy: 0.4032\n"
          ]
        }
      ]
    },
    {
      "cell_type": "code",
      "source": [
        "#load the best model\n",
        "model_.load_weights('weights.best.inc.smiling.hdf5')"
      ],
      "metadata": {
        "id": "m20k-GT5tsxu"
      },
      "execution_count": null,
      "outputs": []
    },
    {
      "cell_type": "code",
      "source": [
        "plt.plot(history.history['loss'], label='loss')\n",
        "plt.plot(history.history['val_loss'], label = 'val_loss')\n",
        "plt.xlabel('Epoch')\n",
        "plt.ylabel('Loss')\n",
        "plt.legend(loc='lower right')\n",
        "\n",
        "test_loss, test_acc = model_.evaluate(test_images,  test_labels, verbose=2)"
      ],
      "metadata": {
        "colab": {
          "base_uri": "https://localhost:8080/",
          "height": 308
        },
        "id": "jnf5OHsAtszy",
        "outputId": "80a35850-3b77-4d62-9b70-9d26a4e2f400"
      },
      "execution_count": null,
      "outputs": [
        {
          "output_type": "stream",
          "name": "stdout",
          "text": [
            "10/10 - 1s - loss: 1.8272 - accuracy: 0.5841 - 1s/epoch - 135ms/step\n"
          ]
        },
        {
          "output_type": "display_data",
          "data": {
            "text/plain": [
              "<Figure size 432x288 with 1 Axes>"
            ],
            "image/png": "[encoded data removed]"
          },
          "metadata": {
            "needs_background": "light"
          }
        }
      ]
    },
    {
      "cell_type": "code",
      "source": [
        "from sklearn import metrics\n",
        "\n",
        "metrics.roc_auc_score(\n",
        "    test_labels, model_.predict(test_images), multi_class=\"ovr\", average=\"weighted\"\n",
        "  )"
      ],
      "metadata": {
        "colab": {
          "base_uri": "https://localhost:8080/"
        },
        "id": "qQQ7tJ3sunBy",
        "outputId": "02c95167-4aeb-43fc-948b-7d0a5375acd3"
      },
      "execution_count": null,
      "outputs": [
        {
          "output_type": "stream",
          "name": "stdout",
          "text": [
            "10/10 [==============================] - 3s 139ms/step\n"
          ]
        },
        {
          "output_type": "execute_result",
          "data": {
            "text/plain": [
              "0.8653672785281981"
            ]
          },
          "metadata": {},
          "execution_count": 68
        }
      ]
    },
    {
      "cell_type": "code",
      "source": [
        "cnf_matrix = metrics.confusion_matrix(test_labels, model_.predict(test_images).argmax(axis=-1))\n",
        "\n",
        "FP = cnf_matrix.sum(axis=0) - np.diag(cnf_matrix) \n",
        "FN = cnf_matrix.sum(axis=1) - np.diag(cnf_matrix)\n",
        "TP = np.diag(cnf_matrix)\n",
        "TN = cnf_matrix.sum() - (FP + FN + TP)\n",
        "FP = FP.astype(float)\n",
        "FN = FN.astype(float)\n",
        "TP = TP.astype(float)\n",
        "TN = TN.astype(float)\n",
        "# Sensitivity, hit rate, recall, or true positive rate\n",
        "TPR = TP/(TP+FN)\n",
        "# Specificity or true negative rate\n",
        "TNR = TN/(TN+FP) \n",
        "# Precision or positive predictive value\n",
        "PPV = TP/(TP+FP)\n",
        "# Negative predictive value\n",
        "NPV = TN/(TN+FN)\n",
        "# Fall out or false positive rate\n",
        "FPR = FP/(FP+TN)\n",
        "# False negative rate\n",
        "FNR = FN/(TP+FN)\n",
        "# False discovery rate\n",
        "FDR = FP/(TP+FP)\n",
        "# Overall accuracy for each class\n",
        "ACC = (TP+TN)/(TP+FP+FN+TN)"
      ],
      "metadata": {
        "colab": {
          "base_uri": "https://localhost:8080/"
        },
        "id": "-GExDOFaunEI",
        "outputId": "5805e8fd-3d83-4b13-a6cd-848df95714ad"
      },
      "execution_count": null,
      "outputs": [
        {
          "output_type": "stream",
          "name": "stdout",
          "text": [
            "10/10 [==============================] - 1s 140ms/step\n"
          ]
        },
        {
          "output_type": "stream",
          "name": "stderr",
          "text": [
            "<ipython-input-69-8c3344a75d06>:16: RuntimeWarning: invalid value encountered in true_divide\n",
            "  PPV = TP/(TP+FP)\n",
            "<ipython-input-69-8c3344a75d06>:24: RuntimeWarning: invalid value encountered in true_divide\n",
            "  FDR = FP/(TP+FP)\n"
          ]
        }
      ]
    },
    {
      "cell_type": "code",
      "source": [
        "np.mean(ACC), np.mean(TPR), np.mean(TNR)"
      ],
      "metadata": {
        "colab": {
          "base_uri": "https://localhost:8080/"
        },
        "id": "Y9ZGgnNduru0",
        "outputId": "5e710680-095f-4e67-ec0f-18206fb375e5"
      },
      "execution_count": null,
      "outputs": [
        {
          "output_type": "execute_result",
          "data": {
            "text/plain": [
              "(0.7920634920634921, 0.6403050108932462, 0.8548368298368298)"
            ]
          },
          "metadata": {},
          "execution_count": 70
        }
      ]
    },
    {
      "cell_type": "code",
      "source": [],
      "metadata": {
        "id": "4F0XFgumx7ao"
      },
      "execution_count": null,
      "outputs": []
    }
  ]
}